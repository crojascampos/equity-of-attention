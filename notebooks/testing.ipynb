{
 "cells": [
  {
   "cell_type": "markdown",
   "source": [
    "# Equity of attention"
   ],
   "metadata": {}
  },
  {
   "cell_type": "markdown",
   "source": [
    "## Importing libraries"
   ],
   "metadata": {}
  },
  {
   "cell_type": "code",
   "execution_count": 1,
   "source": [
    "import os\n",
    "import sys\n",
    "import math\n",
    "\n",
    "sys.path.append(os.path.join('..'))"
   ],
   "outputs": [],
   "metadata": {}
  },
  {
   "cell_type": "code",
   "execution_count": 2,
   "source": [
    "import pandas as pd\n",
    "import numpy as np"
   ],
   "outputs": [],
   "metadata": {}
  },
  {
   "cell_type": "code",
   "execution_count": 3,
   "source": [
    "from models.ilpbased_eoa import ILPBasedEOA"
   ],
   "outputs": [],
   "metadata": {}
  },
  {
   "cell_type": "markdown",
   "source": [
    "## Preparing data"
   ],
   "metadata": {}
  },
  {
   "cell_type": "code",
   "execution_count": 4,
   "source": [
    "data_path = '../data'"
   ],
   "outputs": [],
   "metadata": {}
  },
  {
   "cell_type": "markdown",
   "source": [
    "First tested with random data, that is 20 integer numbers from 0 to 10 representing a ranking with relevance values"
   ],
   "metadata": {}
  },
  {
   "cell_type": "code",
   "execution_count": 5,
   "source": [
    "test_data = np.array(np.random.rand(100) * 10, dtype=int)\n",
    "test_data"
   ],
   "outputs": [
    {
     "output_type": "execute_result",
     "data": {
      "text/plain": [
       "array([5, 1, 7, 7, 5, 7, 1, 1, 2, 1, 2, 1, 3, 9, 1, 2, 7, 3, 3, 5, 1, 2,\n",
       "       1, 2, 5, 3, 3, 2, 2, 3, 7, 2, 5, 4, 9, 6, 3, 3, 4, 4, 9, 4, 0, 7,\n",
       "       2, 1, 6, 8, 7, 7, 6, 9, 2, 4, 3, 7, 4, 4, 8, 6, 0, 2, 5, 0, 8, 2,\n",
       "       3, 7, 5, 6, 7, 1, 9, 0, 0, 1, 7, 1, 2, 3, 4, 7, 9, 3, 3, 5, 9, 9,\n",
       "       0, 5, 6, 2, 5, 5, 6, 7, 3, 1, 4, 3])"
      ]
     },
     "metadata": {},
     "execution_count": 5
    }
   ],
   "metadata": {}
  },
  {
   "cell_type": "markdown",
   "source": [
    "Create the object for this ranking"
   ],
   "metadata": {}
  },
  {
   "cell_type": "code",
   "execution_count": 6,
   "source": [
    "test = ILPBasedEOA(test_data, 0, 10)"
   ],
   "outputs": [],
   "metadata": {}
  },
  {
   "cell_type": "code",
   "execution_count": 7,
   "source": [
    "test.prepare(0.5, 5, 10, 0.2)"
   ],
   "outputs": [],
   "metadata": {}
  },
  {
   "cell_type": "code",
   "execution_count": 8,
   "source": [
    "test.start(1)"
   ],
   "outputs": [
    {
     "output_type": "stream",
     "name": "stdout",
     "text": [
      "Prefiltering...\n",
      "0,[88 63 42 73 74 60 71 20 75 45 14 11  7  6 77 97  1  9 22 44 28 31 27 61\n",
      " 21 78 52 15 91 10  8 65 23 54 66 37 99 79 96 12 17 36 18 25 26 84 83 29\n",
      " 33 41 80 53 39 56 57 38 98 85 68 89 92 93  0 62 32 24 19  4 46 90 35 59\n",
      " 69 94 50 16 95  3 30  2  5 81 49 43 76 55 48 67 70 64 58 47 51 82 34 87\n",
      " 86 40 13 72]\n",
      "Optimizing... iteration 0, ranking 0\n",
      "Welcome to the CBC MILP Solver \n",
      "Version: devel \n",
      "Build Date: Nov 15 2020 \n",
      "\n",
      "Starting solution of the Linear programming relaxation problem using Primal Simplex\n",
      "\n",
      "Coin0506I Presolve 200 (0) rows, 10000 (0) columns and 20000 (0) elements\n",
      "Clp1000I sum of infeasibilities 5.27584e-09 - average 2.63792e-11, 4 fixed columns\n",
      "Coin0506I Presolve 200 (0) rows, 9996 (-4) columns and 19992 (-8) elements\n",
      "Clp0000I Optimal - objective value 0\n",
      "Clp0000I Optimal - objective value 0\n",
      "Coin0511I After Postsolve, objective 0, infeasibilities - dual 0 (0), primal 0 (0)\n",
      "Clp0000I Optimal - objective value 0\n",
      "Clp0000I Optimal - objective value 0\n",
      "Clp0000I Optimal - objective value 0\n",
      "Clp0032I Optimal objective 0 - 0 iterations time 0.122, Idiot 0.11\n",
      "\n",
      "Starting MIP optimization\n",
      "Cgl0004I processed model has 200 rows, 10000 columns (10000 integer (10000 of which binary)) and 20000 elements\n",
      "Coin3009W Conflict graph built in 0.100 seconds, density: 0.500%\n",
      "Cgl0015I Clique Strengthening extended 0 cliques, 0 were dominated\n",
      "Cbc0045I No integer variables out of 10000 objects (10000 integer) have costs\n",
      "Cbc0045I branch on satisfied N create fake objective Y random cost Y\n",
      "Cbc0038I Initial state - 0 integers unsatisfied sum - 0\n",
      "Cbc0038I Solution found of 0\n",
      "Cbc0038I Before mini branch and bound, 10000 integers at bound fixed and 0 continuous\n",
      "Cbc0038I Mini branch and bound did not improve solution (0.65 seconds)\n",
      "Cbc0038I After 0.65 seconds - Feasibility pump exiting with objective of 0 - took 0.02 seconds\n",
      "Cbc0012I Integer solution of 0 found by feasibility pump after 0 iterations and 0 nodes (0.65 seconds)\n",
      "Cbc0001I Search completed - best objective 0, took 0 iterations and 0 nodes (0.66 seconds)\n",
      "Cbc0035I Maximum depth 0, 0 variables fixed on reduced cost\n",
      "Total time (CPU seconds):       0.64   (Wallclock seconds):       0.67\n",
      "\n"
     ]
    }
   ],
   "metadata": {}
  },
  {
   "cell_type": "code",
   "execution_count": null,
   "source": [
    "grid = \"\"\n",
    "for i, val in enumerate(test.mip_model.vars):\n",
    "    grid += \"1  \" if val.x >= 0.99 else \"0  \"\n",
    "    if (i + 1) % test.qty_subjects == 0:\n",
    "        grid += \"\\n\"\n",
    "print(grid)"
   ],
   "outputs": [],
   "metadata": {}
  }
 ],
 "metadata": {
  "interpreter": {
   "hash": "73c45ea471e501917bf5f3f25fa8bafc6a2f7605c7844b39b10eb1164df3550a"
  },
  "kernelspec": {
   "name": "python3",
   "display_name": "Python 3.9.5 64-bit ('.venv': venv)"
  },
  "language_info": {
   "codemirror_mode": {
    "name": "ipython",
    "version": 3
   },
   "file_extension": ".py",
   "mimetype": "text/x-python",
   "name": "python",
   "nbconvert_exporter": "python",
   "pygments_lexer": "ipython3",
   "version": "3.9.5"
  }
 },
 "nbformat": 4,
 "nbformat_minor": 4
}