{
 "metadata": {
  "language_info": {
   "codemirror_mode": {
    "name": "ipython",
    "version": 3
   },
   "file_extension": ".py",
   "mimetype": "text/x-python",
   "name": "python",
   "nbconvert_exporter": "python",
   "pygments_lexer": "ipython3",
   "version": "3.9.6"
  },
  "orig_nbformat": 4,
  "kernelspec": {
   "name": "python3",
   "display_name": "Python 3.7.9 64-bit ('.venv')"
  },
  "interpreter": {
   "hash": "64ead6867b78a334a4b4858c524bd532eb42b4ca53b37e52f05696cefd008e99"
  }
 },
 "nbformat": 4,
 "nbformat_minor": 2,
 "cells": [
  {
   "source": [
    "# Equity of Attention Experiment"
   ],
   "cell_type": "markdown",
   "metadata": {}
  },
  {
   "source": [
    "## Setup the working environment\n",
    "\n",
    "Requirements for your working environment\n",
    "- Python >= 3.7\n",
    "- Package requirements: pandas, numpy, scipy, matplotlib, scikit-learn, tensorflow\n",
    "\n",
    "If on Google Collab\n",
    "- GDrive storage requirements: ~1GB\n",
    "\n",
    "IMPORTANT: Set the following variable to \"locally\" if running in own hardware or \"collab\" if on Google Collab"
   ],
   "cell_type": "markdown",
   "metadata": {}
  },
  {
   "cell_type": "code",
   "execution_count": 31,
   "metadata": {},
   "outputs": [],
   "source": [
    "run_location = \"locally\""
   ]
  },
  {
   "source": [
    "### Install required packages\n",
    "If on Google Collab, the only needed download is tensorflow-gpu, the rest of packages are already installed"
   ],
   "cell_type": "markdown",
   "metadata": {}
  },
  {
   "cell_type": "code",
   "execution_count": 32,
   "metadata": {
    "tags": [
     "outputPrepend"
    ]
   },
   "outputs": [
    {
     "output_type": "stream",
     "name": "stdout",
     "text": [
      "ady satisfied: requests-unixsocket in c:\\users\\carlos\\documents\\programming\\python\\equity-of-attention\\.venv\\lib\\site-packages (from jupyter-server~=1.4->jupyterlab->-r ../requirements.txt (line 1)) (0.2.0)\n",
      "Requirement already satisfied: Send2Trash in c:\\users\\carlos\\documents\\programming\\python\\equity-of-attention\\.venv\\lib\\site-packages (from jupyter-server~=1.4->jupyterlab->-r ../requirements.txt (line 1)) (1.7.1)\n",
      "Requirement already satisfied: nbconvert in c:\\users\\carlos\\documents\\programming\\python\\equity-of-attention\\.venv\\lib\\site-packages (from jupyter-server~=1.4->jupyterlab->-r ../requirements.txt (line 1)) (6.1.0)\n",
      "Requirement already satisfied: terminado>=0.8.3 in c:\\users\\carlos\\documents\\programming\\python\\equity-of-attention\\.venv\\lib\\site-packages (from jupyter-server~=1.4->jupyterlab->-r ../requirements.txt (line 1)) (0.10.1)\n",
      "Requirement already satisfied: prometheus-client in c:\\users\\carlos\\documents\\programming\\python\\equity-of-attention\\.venv\\lib\\site-packages (from jupyter-server~=1.4->jupyterlab->-r ../requirements.txt (line 1)) (0.11.0)\n",
      "Requirement already satisfied: anyio<4,>=3.1.0 in c:\\users\\carlos\\documents\\programming\\python\\equity-of-attention\\.venv\\lib\\site-packages (from jupyter-server~=1.4->jupyterlab->-r ../requirements.txt (line 1)) (3.3.0)\n",
      "Requirement already satisfied: traitlets>=4.2.1 in c:\\users\\carlos\\documents\\programming\\python\\equity-of-attention\\.venv\\lib\\site-packages (from jupyter-server~=1.4->jupyterlab->-r ../requirements.txt (line 1)) (5.0.5)\n",
      "Requirement already satisfied: pyzmq>=17 in c:\\users\\carlos\\documents\\programming\\python\\equity-of-attention\\.venv\\lib\\site-packages (from jupyter-server~=1.4->jupyterlab->-r ../requirements.txt (line 1)) (22.2.1)\n",
      "Requirement already satisfied: jupyter-client>=6.1.1 in c:\\users\\carlos\\documents\\programming\\python\\equity-of-attention\\.venv\\lib\\site-packages (from jupyter-server~=1.4->jupyterlab->-r ../requirements.txt (line 1)) (6.1.12)\n",
      "Requirement already satisfied: websocket-client in c:\\users\\carlos\\documents\\programming\\python\\equity-of-attention\\.venv\\lib\\site-packages (from jupyter-server~=1.4->jupyterlab->-r ../requirements.txt (line 1)) (1.1.0)\n",
      "Requirement already satisfied: argon2-cffi in c:\\users\\carlos\\documents\\programming\\python\\equity-of-attention\\.venv\\lib\\site-packages (from jupyter-server~=1.4->jupyterlab->-r ../requirements.txt (line 1)) (20.1.0)\n",
      "Requirement already satisfied: nbformat in c:\\users\\carlos\\documents\\programming\\python\\equity-of-attention\\.venv\\lib\\site-packages (from jupyter-server~=1.4->jupyterlab->-r ../requirements.txt (line 1)) (5.1.3)\n",
      "Requirement already satisfied: idna>=2.8 in c:\\users\\carlos\\documents\\programming\\python\\equity-of-attention\\.venv\\lib\\site-packages (from anyio<4,>=3.1.0->jupyter-server~=1.4->jupyterlab->-r ../requirements.txt (line 1)) (3.2)\n",
      "Requirement already satisfied: sniffio>=1.1 in c:\\users\\carlos\\documents\\programming\\python\\equity-of-attention\\.venv\\lib\\site-packages (from anyio<4,>=3.1.0->jupyter-server~=1.4->jupyterlab->-r ../requirements.txt (line 1)) (1.2.0)\n",
      "Requirement already satisfied: python-dateutil>=2.1 in c:\\users\\carlos\\documents\\programming\\python\\equity-of-attention\\.venv\\lib\\site-packages (from jupyter-client>=6.1.1->jupyter-server~=1.4->jupyterlab->-r ../requirements.txt (line 1)) (2.8.2)\n",
      "Requirement already satisfied: pywin32>=1.0 in c:\\users\\carlos\\documents\\programming\\python\\equity-of-attention\\.venv\\lib\\site-packages (from jupyter-core->jupyterlab->-r ../requirements.txt (line 1)) (301)\n",
      "Requirement already satisfied: babel in c:\\users\\carlos\\documents\\programming\\python\\equity-of-attention\\.venv\\lib\\site-packages (from jupyterlab-server~=2.3->jupyterlab->-r ../requirements.txt (line 1)) (2.9.1)\n",
      "Requirement already satisfied: jsonschema>=3.0.1 in c:\\users\\carlos\\documents\\programming\\python\\equity-of-attention\\.venv\\lib\\site-packages (from jupyterlab-server~=2.3->jupyterlab->-r ../requirements.txt (line 1)) (3.2.0)\n",
      "Requirement already satisfied: json5 in c:\\users\\carlos\\documents\\programming\\python\\equity-of-attention\\.venv\\lib\\site-packages (from jupyterlab-server~=2.3->jupyterlab->-r ../requirements.txt (line 1)) (0.9.6)\n",
      "Requirement already satisfied: requests in c:\\users\\carlos\\documents\\programming\\python\\equity-of-attention\\.venv\\lib\\site-packages (from jupyterlab-server~=2.3->jupyterlab->-r ../requirements.txt (line 1)) (2.26.0)\n",
      "Requirement already satisfied: setuptools in c:\\users\\carlos\\documents\\programming\\python\\equity-of-attention\\.venv\\lib\\site-packages (from jsonschema>=3.0.1->jupyterlab-server~=2.3->jupyterlab->-r ../requirements.txt (line 1)) (56.0.0)\n",
      "Requirement already satisfied: pyrsistent>=0.14.0 in c:\\users\\carlos\\documents\\programming\\python\\equity-of-attention\\.venv\\lib\\site-packages (from jsonschema>=3.0.1->jupyterlab-server~=2.3->jupyterlab->-r ../requirements.txt (line 1)) (0.18.0)\n",
      "Requirement already satisfied: attrs>=17.4.0 in c:\\users\\carlos\\documents\\programming\\python\\equity-of-attention\\.venv\\lib\\site-packages (from jsonschema>=3.0.1->jupyterlab-server~=2.3->jupyterlab->-r ../requirements.txt (line 1)) (21.2.0)\n",
      "Requirement already satisfied: six>=1.11.0 in c:\\users\\carlos\\documents\\programming\\python\\equity-of-attention\\.venv\\lib\\site-packages (from jsonschema>=3.0.1->jupyterlab-server~=2.3->jupyterlab->-r ../requirements.txt (line 1)) (1.15.0)\n",
      "Requirement already satisfied: notebook<7 in c:\\users\\carlos\\documents\\programming\\python\\equity-of-attention\\.venv\\lib\\site-packages (from nbclassic~=0.2->jupyterlab->-r ../requirements.txt (line 1)) (6.4.0)\n",
      "Requirement already satisfied: ipykernel in c:\\users\\carlos\\documents\\programming\\python\\equity-of-attention\\.venv\\lib\\site-packages (from notebook<7->nbclassic~=0.2->jupyterlab->-r ../requirements.txt (line 1)) (6.0.3)\n",
      "Requirement already satisfied: pywinpty>=1.1.0 in c:\\users\\carlos\\documents\\programming\\python\\equity-of-attention\\.venv\\lib\\site-packages (from terminado>=0.8.3->jupyter-server~=1.4->jupyterlab->-r ../requirements.txt (line 1)) (1.1.3)\n",
      "Requirement already satisfied: pillow>=6.2.0 in c:\\users\\carlos\\documents\\programming\\python\\equity-of-attention\\.venv\\lib\\site-packages (from matplotlib->-r ../requirements.txt (line 2)) (8.3.1)\n",
      "Requirement already satisfied: kiwisolver>=1.0.1 in c:\\users\\carlos\\documents\\programming\\python\\equity-of-attention\\.venv\\lib\\site-packages (from matplotlib->-r ../requirements.txt (line 2)) (1.3.1)\n",
      "Requirement already satisfied: pyparsing>=2.2.1 in c:\\users\\carlos\\documents\\programming\\python\\equity-of-attention\\.venv\\lib\\site-packages (from matplotlib->-r ../requirements.txt (line 2)) (2.4.7)\n",
      "Requirement already satisfied: cycler>=0.10 in c:\\users\\carlos\\documents\\programming\\python\\equity-of-attention\\.venv\\lib\\site-packages (from matplotlib->-r ../requirements.txt (line 2)) (0.10.0)\n",
      "Requirement already satisfied: pytz>=2017.3 in c:\\users\\carlos\\documents\\programming\\python\\equity-of-attention\\.venv\\lib\\site-packages (from pandas->-r ../requirements.txt (line 4)) (2021.1)\n",
      "Requirement already satisfied: threadpoolctl>=2.0.0 in c:\\users\\carlos\\documents\\programming\\python\\equity-of-attention\\.venv\\lib\\site-packages (from scikit-learn->-r ../requirements.txt (line 5)) (2.2.0)\n",
      "Requirement already satisfied: joblib>=0.11 in c:\\users\\carlos\\documents\\programming\\python\\equity-of-attention\\.venv\\lib\\site-packages (from scikit-learn->-r ../requirements.txt (line 5)) (1.0.1)\n",
      "Requirement already satisfied: google-pasta~=0.2 in c:\\users\\carlos\\documents\\programming\\python\\equity-of-attention\\.venv\\lib\\site-packages (from tensorflow-gpu->-r ../requirements.txt (line 7)) (0.2.0)\n",
      "Requirement already satisfied: h5py~=3.1.0 in c:\\users\\carlos\\documents\\programming\\python\\equity-of-attention\\.venv\\lib\\site-packages (from tensorflow-gpu->-r ../requirements.txt (line 7)) (3.1.0)\n",
      "Requirement already satisfied: tensorboard~=2.5 in c:\\users\\carlos\\documents\\programming\\python\\equity-of-attention\\.venv\\lib\\site-packages (from tensorflow-gpu->-r ../requirements.txt (line 7)) (2.5.0)\n",
      "Requirement already satisfied: absl-py~=0.10 in c:\\users\\carlos\\documents\\programming\\python\\equity-of-attention\\.venv\\lib\\site-packages (from tensorflow-gpu->-r ../requirements.txt (line 7)) (0.13.0)\n",
      "Requirement already satisfied: gast==0.4.0 in c:\\users\\carlos\\documents\\programming\\python\\equity-of-attention\\.venv\\lib\\site-packages (from tensorflow-gpu->-r ../requirements.txt (line 7)) (0.4.0)\n",
      "Requirement already satisfied: grpcio~=1.34.0 in c:\\users\\carlos\\documents\\programming\\python\\equity-of-attention\\.venv\\lib\\site-packages (from tensorflow-gpu->-r ../requirements.txt (line 7)) (1.34.1)\n",
      "Requirement already satisfied: keras-preprocessing~=1.1.2 in c:\\users\\carlos\\documents\\programming\\python\\equity-of-attention\\.venv\\lib\\site-packages (from tensorflow-gpu->-r ../requirements.txt (line 7)) (1.1.2)\n",
      "Requirement already satisfied: wheel~=0.35 in c:\\users\\carlos\\documents\\programming\\python\\equity-of-attention\\.venv\\lib\\site-packages (from tensorflow-gpu->-r ../requirements.txt (line 7)) (0.36.2)\n",
      "Requirement already satisfied: astunparse~=1.6.3 in c:\\users\\carlos\\documents\\programming\\python\\equity-of-attention\\.venv\\lib\\site-packages (from tensorflow-gpu->-r ../requirements.txt (line 7)) (1.6.3)\n",
      "Requirement already satisfied: flatbuffers~=1.12.0 in c:\\users\\carlos\\documents\\programming\\python\\equity-of-attention\\.venv\\lib\\site-packages (from tensorflow-gpu->-r ../requirements.txt (line 7)) (1.12)\n",
      "Requirement already satisfied: opt-einsum~=3.3.0 in c:\\users\\carlos\\documents\\programming\\python\\equity-of-attention\\.venv\\lib\\site-packages (from tensorflow-gpu->-r ../requirements.txt (line 7)) (3.3.0)\n",
      "Requirement already satisfied: tensorflow-estimator<2.6.0,>=2.5.0rc0 in c:\\users\\carlos\\documents\\programming\\python\\equity-of-attention\\.venv\\lib\\site-packages (from tensorflow-gpu->-r ../requirements.txt (line 7)) (2.5.0)\n",
      "Requirement already satisfied: keras-nightly~=2.5.0.dev in c:\\users\\carlos\\documents\\programming\\python\\equity-of-attention\\.venv\\lib\\site-packages (from tensorflow-gpu->-r ../requirements.txt (line 7)) (2.5.0.dev2021032900)\n",
      "Requirement already satisfied: wrapt~=1.12.1 in c:\\users\\carlos\\documents\\programming\\python\\equity-of-attention\\.venv\\lib\\site-packages (from tensorflow-gpu->-r ../requirements.txt (line 7)) (1.12.1)\n",
      "Requirement already satisfied: protobuf>=3.9.2 in c:\\users\\carlos\\documents\\programming\\python\\equity-of-attention\\.venv\\lib\\site-packages (from tensorflow-gpu->-r ../requirements.txt (line 7)) (3.17.3)\n",
      "Requirement already satisfied: typing-extensions~=3.7.4 in c:\\users\\carlos\\documents\\programming\\python\\equity-of-attention\\.venv\\lib\\site-packages (from tensorflow-gpu->-r ../requirements.txt (line 7)) (3.7.4.3)\n",
      "Requirement already satisfied: termcolor~=1.1.0 in c:\\users\\carlos\\documents\\programming\\python\\equity-of-attention\\.venv\\lib\\site-packages (from tensorflow-gpu->-r ../requirements.txt (line 7)) (1.1.0)\n",
      "Requirement already satisfied: tensorboard-plugin-wit>=1.6.0 in c:\\users\\carlos\\documents\\programming\\python\\equity-of-attention\\.venv\\lib\\site-packages (from tensorboard~=2.5->tensorflow-gpu->-r ../requirements.txt (line 7)) (1.8.0)\n",
      "Requirement already satisfied: markdown>=2.6.8 in c:\\users\\carlos\\documents\\programming\\python\\equity-of-attention\\.venv\\lib\\site-packages (from tensorboard~=2.5->tensorflow-gpu->-r ../requirements.txt (line 7)) (3.3.4)\n",
      "Requirement already satisfied: tensorboard-data-server<0.7.0,>=0.6.0 in c:\\users\\carlos\\documents\\programming\\python\\equity-of-attention\\.venv\\lib\\site-packages (from tensorboard~=2.5->tensorflow-gpu->-r ../requirements.txt (line 7)) (0.6.1)\n",
      "Requirement already satisfied: werkzeug>=0.11.15 in c:\\users\\carlos\\documents\\programming\\python\\equity-of-attention\\.venv\\lib\\site-packages (from tensorboard~=2.5->tensorflow-gpu->-r ../requirements.txt (line 7)) (2.0.1)\n",
      "Requirement already satisfied: google-auth-oauthlib<0.5,>=0.4.1 in c:\\users\\carlos\\documents\\programming\\python\\equity-of-attention\\.venv\\lib\\site-packages (from tensorboard~=2.5->tensorflow-gpu->-r ../requirements.txt (line 7)) (0.4.5)\n",
      "Requirement already satisfied: google-auth<2,>=1.6.3 in c:\\users\\carlos\\documents\\programming\\python\\equity-of-attention\\.venv\\lib\\site-packages (from tensorboard~=2.5->tensorflow-gpu->-r ../requirements.txt (line 7)) (1.34.0)\n",
      "Requirement already satisfied: rsa<5,>=3.1.4 in c:\\users\\carlos\\documents\\programming\\python\\equity-of-attention\\.venv\\lib\\site-packages (from google-auth<2,>=1.6.3->tensorboard~=2.5->tensorflow-gpu->-r ../requirements.txt (line 7)) (4.7.2)\n",
      "Requirement already satisfied: cachetools<5.0,>=2.0.0 in c:\\users\\carlos\\documents\\programming\\python\\equity-of-attention\\.venv\\lib\\site-packages (from google-auth<2,>=1.6.3->tensorboard~=2.5->tensorflow-gpu->-r ../requirements.txt (line 7)) (4.2.2)\n",
      "Requirement already satisfied: pyasn1-modules>=0.2.1 in c:\\users\\carlos\\documents\\programming\\python\\equity-of-attention\\.venv\\lib\\site-packages (from google-auth<2,>=1.6.3->tensorboard~=2.5->tensorflow-gpu->-r ../requirements.txt (line 7)) (0.2.8)\n",
      "Requirement already satisfied: requests-oauthlib>=0.7.0 in c:\\users\\carlos\\documents\\programming\\python\\equity-of-attention\\.venv\\lib\\site-packages (from google-auth-oauthlib<0.5,>=0.4.1->tensorboard~=2.5->tensorflow-gpu->-r ../requirements.txt (line 7)) (1.3.0)\n",
      "Requirement already satisfied: pyasn1<0.5.0,>=0.4.6 in c:\\users\\carlos\\documents\\programming\\python\\equity-of-attention\\.venv\\lib\\site-packages (from pyasn1-modules>=0.2.1->google-auth<2,>=1.6.3->tensorboard~=2.5->tensorflow-gpu->-r ../requirements.txt (line 7)) (0.4.8)\n",
      "Requirement already satisfied: charset-normalizer~=2.0.0 in c:\\users\\carlos\\documents\\programming\\python\\equity-of-attention\\.venv\\lib\\site-packages (from requests->jupyterlab-server~=2.3->jupyterlab->-r ../requirements.txt (line 1)) (2.0.4)\n",
      "Requirement already satisfied: certifi>=2017.4.17 in c:\\users\\carlos\\documents\\programming\\python\\equity-of-attention\\.venv\\lib\\site-packages (from requests->jupyterlab-server~=2.3->jupyterlab->-r ../requirements.txt (line 1)) (2021.5.30)\n",
      "Requirement already satisfied: urllib3<1.27,>=1.21.1 in c:\\users\\carlos\\documents\\programming\\python\\equity-of-attention\\.venv\\lib\\site-packages (from requests->jupyterlab-server~=2.3->jupyterlab->-r ../requirements.txt (line 1)) (1.26.6)\n",
      "Requirement already satisfied: oauthlib>=3.0.0 in c:\\users\\carlos\\documents\\programming\\python\\equity-of-attention\\.venv\\lib\\site-packages (from requests-oauthlib>=0.7.0->google-auth-oauthlib<0.5,>=0.4.1->tensorboard~=2.5->tensorflow-gpu->-r ../requirements.txt (line 7)) (3.1.1)\n",
      "Requirement already satisfied: cffi>=1.0.0 in c:\\users\\carlos\\documents\\programming\\python\\equity-of-attention\\.venv\\lib\\site-packages (from argon2-cffi->jupyter-server~=1.4->jupyterlab->-r ../requirements.txt (line 1)) (1.14.6)\n",
      "Requirement already satisfied: pycparser in c:\\users\\carlos\\documents\\programming\\python\\equity-of-attention\\.venv\\lib\\site-packages (from cffi>=1.0.0->argon2-cffi->jupyter-server~=1.4->jupyterlab->-r ../requirements.txt (line 1)) (2.20)\n",
      "Requirement already satisfied: matplotlib-inline<0.2.0,>=0.1.0 in c:\\users\\carlos\\documents\\programming\\python\\equity-of-attention\\.venv\\lib\\site-packages (from ipykernel->notebook<7->nbclassic~=0.2->jupyterlab->-r ../requirements.txt (line 1)) (0.1.2)\n",
      "Requirement already satisfied: debugpy<2.0,>=1.0.0 in c:\\users\\carlos\\documents\\programming\\python\\equity-of-attention\\.venv\\lib\\site-packages (from ipykernel->notebook<7->nbclassic~=0.2->jupyterlab->-r ../requirements.txt (line 1)) (1.4.1)\n",
      "Requirement already satisfied: pickleshare in c:\\users\\carlos\\documents\\programming\\python\\equity-of-attention\\.venv\\lib\\site-packages (from ipython->jupyterlab->-r ../requirements.txt (line 1)) (0.7.5)\n",
      "Requirement already satisfied: colorama in c:\\users\\carlos\\documents\\programming\\python\\equity-of-attention\\.venv\\lib\\site-packages (from ipython->jupyterlab->-r ../requirements.txt (line 1)) (0.4.4)\n",
      "Requirement already satisfied: backcall in c:\\users\\carlos\\documents\\programming\\python\\equity-of-attention\\.venv\\lib\\site-packages (from ipython->jupyterlab->-r ../requirements.txt (line 1)) (0.2.0)\n",
      "Requirement already satisfied: jedi>=0.16 in c:\\users\\carlos\\documents\\programming\\python\\equity-of-attention\\.venv\\lib\\site-packages (from ipython->jupyterlab->-r ../requirements.txt (line 1)) (0.18.0)\n",
      "Requirement already satisfied: decorator in c:\\users\\carlos\\documents\\programming\\python\\equity-of-attention\\.venv\\lib\\site-packages (from ipython->jupyterlab->-r ../requirements.txt (line 1)) (5.0.9)\n",
      "Requirement already satisfied: pygments in c:\\users\\carlos\\documents\\programming\\python\\equity-of-attention\\.venv\\lib\\site-packages (from ipython->jupyterlab->-r ../requirements.txt (line 1)) (2.9.0)\n",
      "Requirement already satisfied: prompt-toolkit!=3.0.0,!=3.0.1,<3.1.0,>=2.0.0 in c:\\users\\carlos\\documents\\programming\\python\\equity-of-attention\\.venv\\lib\\site-packages (from ipython->jupyterlab->-r ../requirements.txt (line 1)) (3.0.19)\n",
      "Requirement already satisfied: parso<0.9.0,>=0.8.0 in c:\\users\\carlos\\documents\\programming\\python\\equity-of-attention\\.venv\\lib\\site-packages (from jedi>=0.16->ipython->jupyterlab->-r ../requirements.txt (line 1)) (0.8.2)\n",
      "Requirement already satisfied: wcwidth in c:\\users\\carlos\\documents\\programming\\python\\equity-of-attention\\.venv\\lib\\site-packages (from prompt-toolkit!=3.0.0,!=3.0.1,<3.1.0,>=2.0.0->ipython->jupyterlab->-r ../requirements.txt (line 1)) (0.2.5)\n",
      "Requirement already satisfied: testpath in c:\\users\\carlos\\documents\\programming\\python\\equity-of-attention\\.venv\\lib\\site-packages (from nbconvert->jupyter-server~=1.4->jupyterlab->-r ../requirements.txt (line 1)) (0.5.0)\n",
      "Requirement already satisfied: jupyterlab-pygments in c:\\users\\carlos\\documents\\programming\\python\\equity-of-attention\\.venv\\lib\\site-packages (from nbconvert->jupyter-server~=1.4->jupyterlab->-r ../requirements.txt (line 1)) (0.1.2)\n",
      "Requirement already satisfied: defusedxml in c:\\users\\carlos\\documents\\programming\\python\\equity-of-attention\\.venv\\lib\\site-packages (from nbconvert->jupyter-server~=1.4->jupyterlab->-r ../requirements.txt (line 1)) (0.7.1)\n",
      "Requirement already satisfied: entrypoints>=0.2.2 in c:\\users\\carlos\\documents\\programming\\python\\equity-of-attention\\.venv\\lib\\site-packages (from nbconvert->jupyter-server~=1.4->jupyterlab->-r ../requirements.txt (line 1)) (0.3)\n",
      "Requirement already satisfied: nbclient<0.6.0,>=0.5.0 in c:\\users\\carlos\\documents\\programming\\python\\equity-of-attention\\.venv\\lib\\site-packages (from nbconvert->jupyter-server~=1.4->jupyterlab->-r ../requirements.txt (line 1)) (0.5.3)\n",
      "Requirement already satisfied: bleach in c:\\users\\carlos\\documents\\programming\\python\\equity-of-attention\\.venv\\lib\\site-packages (from nbconvert->jupyter-server~=1.4->jupyterlab->-r ../requirements.txt (line 1)) (4.0.0)\n",
      "Requirement already satisfied: pandocfilters>=1.4.1 in c:\\users\\carlos\\documents\\programming\\python\\equity-of-attention\\.venv\\lib\\site-packages (from nbconvert->jupyter-server~=1.4->jupyterlab->-r ../requirements.txt (line 1)) (1.4.3)\n",
      "Requirement already satisfied: mistune<2,>=0.8.1 in c:\\users\\carlos\\documents\\programming\\python\\equity-of-attention\\.venv\\lib\\site-packages (from nbconvert->jupyter-server~=1.4->jupyterlab->-r ../requirements.txt (line 1)) (0.8.4)\n",
      "Requirement already satisfied: async-generator in c:\\users\\carlos\\documents\\programming\\python\\equity-of-attention\\.venv\\lib\\site-packages (from nbclient<0.6.0,>=0.5.0->nbconvert->jupyter-server~=1.4->jupyterlab->-r ../requirements.txt (line 1)) (1.10)\n",
      "Requirement already satisfied: nest-asyncio in c:\\users\\carlos\\documents\\programming\\python\\equity-of-attention\\.venv\\lib\\site-packages (from nbclient<0.6.0,>=0.5.0->nbconvert->jupyter-server~=1.4->jupyterlab->-r ../requirements.txt (line 1)) (1.5.1)\n",
      "Requirement already satisfied: webencodings in c:\\users\\carlos\\documents\\programming\\python\\equity-of-attention\\.venv\\lib\\site-packages (from bleach->nbconvert->jupyter-server~=1.4->jupyterlab->-r ../requirements.txt (line 1)) (0.5.1)\n"
     ]
    }
   ],
   "source": [
    "if run_location == \"locally\":\n",
    "    !pip install -r ../requirements.txt"
   ]
  },
  {
   "source": [
    "### Settings up in GDrive (only on Collab)"
   ],
   "cell_type": "markdown",
   "metadata": {}
  },
  {
   "cell_type": "code",
   "execution_count": 33,
   "metadata": {},
   "outputs": [],
   "source": [
    "if run_location == \"collab\":\n",
    "    from google.colab import drive\n",
    "    drive.mount('/content/gdrive')"
   ]
  },
  {
   "cell_type": "code",
   "execution_count": 35,
   "metadata": {},
   "outputs": [],
   "source": [
    "if run_location == \"collab\":\n",
    "    %cd /content/gdrive/My Drive/"
   ]
  },
  {
   "cell_type": "code",
   "execution_count": 36,
   "metadata": {},
   "outputs": [],
   "source": [
    "if run_location == \"collab\":\n",
    "    !git clone https://github.com/crojascampos/equity-of-attention.git"
   ]
  },
  {
   "cell_type": "code",
   "execution_count": 37,
   "metadata": {},
   "outputs": [],
   "source": [
    "if run_location == \"collab\":\n",
    "    %cd equity-of-attention"
   ]
  },
  {
   "cell_type": "code",
   "execution_count": 38,
   "metadata": {},
   "outputs": [],
   "source": [
    "if run_location == \"collab\":\n",
    "    # Not needed in Google Colab (already installed), but just in case\n",
    "    ! pip install matplotlib\n",
    "    ! pip install numpy\n",
    "    ! pip install pandas\n",
    "    ! pip install scikit-learn\n",
    "    ! pip install scipy\n",
    "    # Needed\n",
    "    ! pip install tensorflow-gpu"
   ]
  },
  {
   "cell_type": "code",
   "execution_count": 39,
   "metadata": {},
   "outputs": [],
   "source": [
    "if run_location == \"collab\":\n",
    "    %cd ./notebooks"
   ]
  },
  {
   "source": [
    "### Import packages"
   ],
   "cell_type": "markdown",
   "metadata": {}
  },
  {
   "cell_type": "code",
   "execution_count": 40,
   "metadata": {},
   "outputs": [],
   "source": [
    "import sys\n",
    "import os\n",
    "\n",
    "sys.path.append(os.path.join('..'))"
   ]
  },
  {
   "cell_type": "code",
   "execution_count": 41,
   "metadata": {},
   "outputs": [],
   "source": [
    "import pandas as pd\n",
    "import numpy as np  "
   ]
  },
  {
   "cell_type": "code",
   "execution_count": 42,
   "metadata": {},
   "outputs": [],
   "source": [
    "import matplotlib.pyplot as plt\n",
    "%matplotlib inline"
   ]
  },
  {
   "cell_type": "code",
   "execution_count": 43,
   "metadata": {},
   "outputs": [],
   "source": [
    "# Load extra modules here"
   ]
  },
  {
   "source": [
    "### Create folders for saving pre-computed results\n",
    "\n",
    "We will define the subfolders in **./data** where we will store our pre-computed results. For each dataset:\n",
    "\n",
    "- *data/outputs/splits* will include two csv files including the train and test interactions, according with the selected train-test split rule. \n",
    "- *data/outputs/instances* will include a csv file with instances to be fed to the model, either pairs for point-wise or triplets for pair-wise recommenders.\n",
    "- *data/outputs/models* will include a h5 file associated with a pre-trained recommender model.  \n",
    "- *data/outputs/predictions* will include a numpy file representing a user-item matrix; a cell stores the relevance score of an item for a given user.\n",
    "- *data/outputs/metrics* will include a pickle dictionary with the computed evaluation metrics for a given recommender model. \n",
    "\n",
    "**N.B.** This strategy will allow us to play with the intermediate outputs of the pipeline, without starting from scratch any time (e.g., for performing a bias treatment as a post-processing, we just need to load the predictions of a model to start). "
   ],
   "cell_type": "markdown",
   "metadata": {}
  },
  {
   "cell_type": "code",
   "execution_count": 44,
   "metadata": {},
   "outputs": [],
   "source": [
    "data_path = '../data'"
   ]
  },
  {
   "cell_type": "code",
   "execution_count": 45,
   "metadata": {},
   "outputs": [
    {
     "output_type": "stream",
     "name": "stderr",
     "text": [
      "A subdirectory or file ../data/outputs already exists.\n",
      "A subdirectory or file ../data/outputs/splits already exists.\n",
      "A subdirectory or file ../data/outputs/instances already exists.\n",
      "A subdirectory or file ../data/outputs/models already exists.\n",
      "A subdirectory or file ../data/outputs/predictions already exists.\n",
      "A subdirectory or file ../data/outputs/metrics already exists.\n"
     ]
    }
   ],
   "source": [
    "!mkdir \"../data/outputs\"\n",
    "!mkdir \"../data/outputs/splits\"\n",
    "!mkdir \"../data/outputs/instances\"\n",
    "!mkdir \"../data/outputs/models\"\n",
    "!mkdir \"../data/outputs/predictions\"\n",
    "!mkdir \"../data/outputs/metrics\""
   ]
  },
  {
   "source": [
    "## Step 2: Load and understand the Airbnb dataset"
   ],
   "cell_type": "markdown",
   "metadata": {}
  },
  {
   "cell_type": "code",
   "execution_count": 46,
   "metadata": {},
   "outputs": [],
   "source": [
    "dataset = 'airbnb_Boston_listings'"
   ]
  },
  {
   "cell_type": "code",
   "execution_count": 47,
   "metadata": {},
   "outputs": [],
   "source": [
    "data = pd.read_csv(os.path.join(data_path, 'datasets/' + dataset + '.csv'), encoding='utf8')"
   ]
  },
  {
   "cell_type": "code",
   "execution_count": 48,
   "metadata": {},
   "outputs": [
    {
     "output_type": "execute_result",
     "data": {
      "text/plain": [
       "Index(['id', 'listing_url', 'scrape_id', 'last_scraped', 'name', 'description',\n",
       "       'neighborhood_overview', 'picture_url', 'host_id', 'host_url',\n",
       "       'host_name', 'host_since', 'host_location', 'host_about',\n",
       "       'host_response_time', 'host_response_rate', 'host_acceptance_rate',\n",
       "       'host_is_superhost', 'host_thumbnail_url', 'host_picture_url',\n",
       "       'host_neighbourhood', 'host_listings_count',\n",
       "       'host_total_listings_count', 'host_verifications',\n",
       "       'host_has_profile_pic', 'host_identity_verified', 'neighbourhood',\n",
       "       'neighbourhood_cleansed', 'neighbourhood_group_cleansed', 'latitude',\n",
       "       'longitude', 'property_type', 'room_type', 'accommodates', 'bathrooms',\n",
       "       'bathrooms_text', 'bedrooms', 'beds', 'amenities', 'price',\n",
       "       'minimum_nights', 'maximum_nights', 'minimum_minimum_nights',\n",
       "       'maximum_minimum_nights', 'minimum_maximum_nights',\n",
       "       'maximum_maximum_nights', 'minimum_nights_avg_ntm',\n",
       "       'maximum_nights_avg_ntm', 'calendar_updated', 'has_availability',\n",
       "       'availability_30', 'availability_60', 'availability_90',\n",
       "       'availability_365', 'calendar_last_scraped', 'number_of_reviews',\n",
       "       'number_of_reviews_ltm', 'number_of_reviews_l30d', 'first_review',\n",
       "       'last_review', 'review_scores_rating', 'review_scores_accuracy',\n",
       "       'review_scores_cleanliness', 'review_scores_checkin',\n",
       "       'review_scores_communication', 'review_scores_location',\n",
       "       'review_scores_value', 'license', 'instant_bookable',\n",
       "       'calculated_host_listings_count',\n",
       "       'calculated_host_listings_count_entire_homes',\n",
       "       'calculated_host_listings_count_private_rooms',\n",
       "       'calculated_host_listings_count_shared_rooms', 'reviews_per_month'],\n",
       "      dtype='object')"
      ]
     },
     "metadata": {},
     "execution_count": 48
    }
   ],
   "source": [
    "data.columns"
   ]
  },
  {
   "cell_type": "code",
   "execution_count": null,
   "metadata": {},
   "outputs": [],
   "source": []
  }
 ]
}