{
 "metadata": {
  "language_info": {
   "codemirror_mode": {
    "name": "ipython",
    "version": 3
   },
   "file_extension": ".py",
   "mimetype": "text/x-python",
   "name": "python",
   "nbconvert_exporter": "python",
   "pygments_lexer": "ipython3",
   "version": "3.9.6"
  },
  "orig_nbformat": 4,
  "kernelspec": {
   "name": "python3",
   "display_name": "Python 3.9.6 64-bit ('.venv')"
  },
  "interpreter": {
   "hash": "64ead6867b78a334a4b4858c524bd532eb42b4ca53b37e52f05696cefd008e99"
  }
 },
 "nbformat": 4,
 "nbformat_minor": 2,
 "cells": [
  {
   "cell_type": "markdown",
   "source": [
    "# Equity of Attention Experiment"
   ],
   "metadata": {}
  },
  {
   "cell_type": "markdown",
   "source": [
    "## Setup the working environment\r\n",
    "\r\n",
    "Requirements for your working environment\r\n",
    "- Python >= 3.7\r\n",
    "- Package requirements: pandas, numpy, scipy, matplotlib, scikit-learn, tensorflow\r\n",
    "\r\n",
    "If on Google Collab\r\n",
    "- GDrive storage requirements: ~1GB\r\n",
    "\r\n",
    "IMPORTANT: Set the following variable to \"locally\" if running in own hardware or \"collab\" if on Google Collab"
   ],
   "metadata": {}
  },
  {
   "cell_type": "code",
   "execution_count": 119,
   "source": [
    "run_location = \"locally\""
   ],
   "outputs": [],
   "metadata": {}
  },
  {
   "cell_type": "markdown",
   "source": [
    "### Install required packages\r\n",
    "If on Google Collab, the only needed download is tensorflow-gpu, the rest of packages are already installed"
   ],
   "metadata": {}
  },
  {
   "cell_type": "code",
   "execution_count": 120,
   "source": [
    "if run_location == \"locally\":\r\n",
    "    !pip install -r ../requirements.txt"
   ],
   "outputs": [
    {
     "output_type": "stream",
     "name": "stdout",
     "text": [
      "Requirement already satisfied: jupyterlab in c:\\users\\carlos\\documents\\programming\\python\\equity-of-attention\\.venv\\lib\\site-packages (from -r ../requirements.txt (line 1)) (3.1.2)\n",
      "Requirement already satisfied: matplotlib in c:\\users\\carlos\\documents\\programming\\python\\equity-of-attention\\.venv\\lib\\site-packages (from -r ../requirements.txt (line 2)) (3.4.2)\n",
      "Requirement already satisfied: numpy in c:\\users\\carlos\\documents\\programming\\python\\equity-of-attention\\.venv\\lib\\site-packages (from -r ../requirements.txt (line 3)) (1.19.5)\n",
      "Requirement already satisfied: pandas in c:\\users\\carlos\\documents\\programming\\python\\equity-of-attention\\.venv\\lib\\site-packages (from -r ../requirements.txt (line 4)) (1.3.1)\n",
      "Requirement already satisfied: scikit-learn in c:\\users\\carlos\\documents\\programming\\python\\equity-of-attention\\.venv\\lib\\site-packages (from -r ../requirements.txt (line 5)) (0.24.2)\n",
      "Requirement already satisfied: scipy in c:\\users\\carlos\\documents\\programming\\python\\equity-of-attention\\.venv\\lib\\site-packages (from -r ../requirements.txt (line 6)) (1.7.1)\n",
      "Requirement already satisfied: tensorflow-gpu in c:\\users\\carlos\\documents\\programming\\python\\equity-of-attention\\.venv\\lib\\site-packages (from -r ../requirements.txt (line 7)) (2.5.0)\n",
      "Requirement already satisfied: jupyter-core in c:\\users\\carlos\\documents\\programming\\python\\equity-of-attention\\.venv\\lib\\site-packages (from jupyterlab->-r ../requirements.txt (line 1)) (4.7.1)\n",
      "Requirement already satisfied: ipython in c:\\users\\carlos\\documents\\programming\\python\\equity-of-attention\\.venv\\lib\\site-packages (from jupyterlab->-r ../requirements.txt (line 1)) (7.26.0)\n",
      "Requirement already satisfied: jupyter-server~=1.4 in c:\\users\\carlos\\documents\\programming\\python\\equity-of-attention\\.venv\\lib\\site-packages (from jupyterlab->-r ../requirements.txt (line 1)) (1.10.2)\n",
      "Requirement already satisfied: packaging in c:\\users\\carlos\\documents\\programming\\python\\equity-of-attention\\.venv\\lib\\site-packages (from jupyterlab->-r ../requirements.txt (line 1)) (21.0)\n",
      "Requirement already satisfied: jupyterlab-server~=2.3 in c:\\users\\carlos\\documents\\programming\\python\\equity-of-attention\\.venv\\lib\\site-packages (from jupyterlab->-r ../requirements.txt (line 1)) (2.6.2)\n",
      "Requirement already satisfied: jinja2>=2.1 in c:\\users\\carlos\\documents\\programming\\python\\equity-of-attention\\.venv\\lib\\site-packages (from jupyterlab->-r ../requirements.txt (line 1)) (3.0.1)\n",
      "Requirement already satisfied: tornado>=6.1.0 in c:\\users\\carlos\\documents\\programming\\python\\equity-of-attention\\.venv\\lib\\site-packages (from jupyterlab->-r ../requirements.txt (line 1)) (6.1)\n",
      "Requirement already satisfied: nbclassic~=0.2 in c:\\users\\carlos\\documents\\programming\\python\\equity-of-attention\\.venv\\lib\\site-packages (from jupyterlab->-r ../requirements.txt (line 1)) (0.3.1)\n",
      "Requirement already satisfied: MarkupSafe>=2.0 in c:\\users\\carlos\\documents\\programming\\python\\equity-of-attention\\.venv\\lib\\site-packages (from jinja2>=2.1->jupyterlab->-r ../requirements.txt (line 1)) (2.0.1)\n",
      "Requirement already satisfied: nbformat in c:\\users\\carlos\\documents\\programming\\python\\equity-of-attention\\.venv\\lib\\site-packages (from jupyter-server~=1.4->jupyterlab->-r ../requirements.txt (line 1)) (5.1.3)\n",
      "Requirement already satisfied: Send2Trash in c:\\users\\carlos\\documents\\programming\\python\\equity-of-attention\\.venv\\lib\\site-packages (from jupyter-server~=1.4->jupyterlab->-r ../requirements.txt (line 1)) (1.7.1)\n",
      "Requirement already satisfied: prometheus-client in c:\\users\\carlos\\documents\\programming\\python\\equity-of-attention\\.venv\\lib\\site-packages (from jupyter-server~=1.4->jupyterlab->-r ../requirements.txt (line 1)) (0.11.0)\n",
      "Requirement already satisfied: websocket-client in c:\\users\\carlos\\documents\\programming\\python\\equity-of-attention\\.venv\\lib\\site-packages (from jupyter-server~=1.4->jupyterlab->-r ../requirements.txt (line 1)) (1.1.0)\n",
      "Requirement already satisfied: jupyter-client>=6.1.1 in c:\\users\\carlos\\documents\\programming\\python\\equity-of-attention\\.venv\\lib\\site-packages (from jupyter-server~=1.4->jupyterlab->-r ../requirements.txt (line 1)) (6.1.12)\n",
      "Requirement already satisfied: argon2-cffi in c:\\users\\carlos\\documents\\programming\\python\\equity-of-attention\\.venv\\lib\\site-packages (from jupyter-server~=1.4->jupyterlab->-r ../requirements.txt (line 1)) (20.1.0)\n",
      "Requirement already satisfied: nbconvert in c:\\users\\carlos\\documents\\programming\\python\\equity-of-attention\\.venv\\lib\\site-packages (from jupyter-server~=1.4->jupyterlab->-r ../requirements.txt (line 1)) (6.1.0)\n",
      "Requirement already satisfied: ipython-genutils in c:\\users\\carlos\\documents\\programming\\python\\equity-of-attention\\.venv\\lib\\site-packages (from jupyter-server~=1.4->jupyterlab->-r ../requirements.txt (line 1)) (0.2.0)\n",
      "Requirement already satisfied: anyio<4,>=3.1.0 in c:\\users\\carlos\\documents\\programming\\python\\equity-of-attention\\.venv\\lib\\site-packages (from jupyter-server~=1.4->jupyterlab->-r ../requirements.txt (line 1)) (3.3.0)\n",
      "Requirement already satisfied: requests-unixsocket in c:\\users\\carlos\\documents\\programming\\python\\equity-of-attention\\.venv\\lib\\site-packages (from jupyter-server~=1.4->jupyterlab->-r ../requirements.txt (line 1)) (0.2.0)\n",
      "Requirement already satisfied: terminado>=0.8.3 in c:\\users\\carlos\\documents\\programming\\python\\equity-of-attention\\.venv\\lib\\site-packages (from jupyter-server~=1.4->jupyterlab->-r ../requirements.txt (line 1)) (0.10.1)\n",
      "Requirement already satisfied: pyzmq>=17 in c:\\users\\carlos\\documents\\programming\\python\\equity-of-attention\\.venv\\lib\\site-packages (from jupyter-server~=1.4->jupyterlab->-r ../requirements.txt (line 1)) (22.2.1)\n",
      "Requirement already satisfied: traitlets>=4.2.1 in c:\\users\\carlos\\documents\\programming\\python\\equity-of-attention\\.venv\\lib\\site-packages (from jupyter-server~=1.4->jupyterlab->-r ../requirements.txt (line 1)) (5.0.5)\n",
      "Requirement already satisfied: idna>=2.8 in c:\\users\\carlos\\documents\\programming\\python\\equity-of-attention\\.venv\\lib\\site-packages (from anyio<4,>=3.1.0->jupyter-server~=1.4->jupyterlab->-r ../requirements.txt (line 1)) (3.2)\n",
      "Requirement already satisfied: sniffio>=1.1 in c:\\users\\carlos\\documents\\programming\\python\\equity-of-attention\\.venv\\lib\\site-packages (from anyio<4,>=3.1.0->jupyter-server~=1.4->jupyterlab->-r ../requirements.txt (line 1)) (1.2.0)\n",
      "Requirement already satisfied: python-dateutil>=2.1 in c:\\users\\carlos\\documents\\programming\\python\\equity-of-attention\\.venv\\lib\\site-packages (from jupyter-client>=6.1.1->jupyter-server~=1.4->jupyterlab->-r ../requirements.txt (line 1)) (2.8.2)\n",
      "Requirement already satisfied: pywin32>=1.0 in c:\\users\\carlos\\documents\\programming\\python\\equity-of-attention\\.venv\\lib\\site-packages (from jupyter-core->jupyterlab->-r ../requirements.txt (line 1)) (301)\n",
      "Requirement already satisfied: jsonschema>=3.0.1 in c:\\users\\carlos\\documents\\programming\\python\\equity-of-attention\\.venv\\lib\\site-packages (from jupyterlab-server~=2.3->jupyterlab->-r ../requirements.txt (line 1)) (3.2.0)\n",
      "Requirement already satisfied: requests in c:\\users\\carlos\\documents\\programming\\python\\equity-of-attention\\.venv\\lib\\site-packages (from jupyterlab-server~=2.3->jupyterlab->-r ../requirements.txt (line 1)) (2.26.0)\n",
      "Requirement already satisfied: babel in c:\\users\\carlos\\documents\\programming\\python\\equity-of-attention\\.venv\\lib\\site-packages (from jupyterlab-server~=2.3->jupyterlab->-r ../requirements.txt (line 1)) (2.9.1)\n",
      "Requirement already satisfied: json5 in c:\\users\\carlos\\documents\\programming\\python\\equity-of-attention\\.venv\\lib\\site-packages (from jupyterlab-server~=2.3->jupyterlab->-r ../requirements.txt (line 1)) (0.9.6)\n",
      "Requirement already satisfied: six>=1.11.0 in c:\\users\\carlos\\documents\\programming\\python\\equity-of-attention\\.venv\\lib\\site-packages (from jsonschema>=3.0.1->jupyterlab-server~=2.3->jupyterlab->-r ../requirements.txt (line 1)) (1.15.0)\n",
      "Requirement already satisfied: attrs>=17.4.0 in c:\\users\\carlos\\documents\\programming\\python\\equity-of-attention\\.venv\\lib\\site-packages (from jsonschema>=3.0.1->jupyterlab-server~=2.3->jupyterlab->-r ../requirements.txt (line 1)) (21.2.0)\n",
      "Requirement already satisfied: pyrsistent>=0.14.0 in c:\\users\\carlos\\documents\\programming\\python\\equity-of-attention\\.venv\\lib\\site-packages (from jsonschema>=3.0.1->jupyterlab-server~=2.3->jupyterlab->-r ../requirements.txt (line 1)) (0.18.0)\n",
      "Requirement already satisfied: setuptools in c:\\users\\carlos\\documents\\programming\\python\\equity-of-attention\\.venv\\lib\\site-packages (from jsonschema>=3.0.1->jupyterlab-server~=2.3->jupyterlab->-r ../requirements.txt (line 1)) (56.0.0)\n",
      "Requirement already satisfied: notebook<7 in c:\\users\\carlos\\documents\\programming\\python\\equity-of-attention\\.venv\\lib\\site-packages (from nbclassic~=0.2->jupyterlab->-r ../requirements.txt (line 1)) (6.4.0)\n",
      "Requirement already satisfied: ipykernel in c:\\users\\carlos\\documents\\programming\\python\\equity-of-attention\\.venv\\lib\\site-packages (from notebook<7->nbclassic~=0.2->jupyterlab->-r ../requirements.txt (line 1)) (6.0.3)\n",
      "Requirement already satisfied: pywinpty>=1.1.0 in c:\\users\\carlos\\documents\\programming\\python\\equity-of-attention\\.venv\\lib\\site-packages (from terminado>=0.8.3->jupyter-server~=1.4->jupyterlab->-r ../requirements.txt (line 1)) (1.1.3)\n",
      "Requirement already satisfied: pillow>=6.2.0 in c:\\users\\carlos\\documents\\programming\\python\\equity-of-attention\\.venv\\lib\\site-packages (from matplotlib->-r ../requirements.txt (line 2)) (8.3.1)\n",
      "Requirement already satisfied: kiwisolver>=1.0.1 in c:\\users\\carlos\\documents\\programming\\python\\equity-of-attention\\.venv\\lib\\site-packages (from matplotlib->-r ../requirements.txt (line 2)) (1.3.1)\n",
      "Requirement already satisfied: cycler>=0.10 in c:\\users\\carlos\\documents\\programming\\python\\equity-of-attention\\.venv\\lib\\site-packages (from matplotlib->-r ../requirements.txt (line 2)) (0.10.0)\n",
      "Requirement already satisfied: pyparsing>=2.2.1 in c:\\users\\carlos\\documents\\programming\\python\\equity-of-attention\\.venv\\lib\\site-packages (from matplotlib->-r ../requirements.txt (line 2)) (2.4.7)\n",
      "Requirement already satisfied: pytz>=2017.3 in c:\\users\\carlos\\documents\\programming\\python\\equity-of-attention\\.venv\\lib\\site-packages (from pandas->-r ../requirements.txt (line 4)) (2021.1)\n",
      "Requirement already satisfied: joblib>=0.11 in c:\\users\\carlos\\documents\\programming\\python\\equity-of-attention\\.venv\\lib\\site-packages (from scikit-learn->-r ../requirements.txt (line 5)) (1.0.1)"
     ]
    },
    {
     "output_type": "stream",
     "name": "stderr",
     "text": [
      "WARNING: You are using pip version 21.1.3; however, version 21.2.2 is available.\n",
      "You should consider upgrading via the 'c:\\users\\carlos\\documents\\programming\\python\\equity-of-attention\\.venv\\scripts\\python.exe -m pip install --upgrade pip' command.\n"
     ]
    },
    {
     "output_type": "stream",
     "name": "stdout",
     "text": [
      "\n",
      "Requirement already satisfied: threadpoolctl>=2.0.0 in c:\\users\\carlos\\documents\\programming\\python\\equity-of-attention\\.venv\\lib\\site-packages (from scikit-learn->-r ../requirements.txt (line 5)) (2.2.0)\n",
      "Requirement already satisfied: absl-py~=0.10 in c:\\users\\carlos\\documents\\programming\\python\\equity-of-attention\\.venv\\lib\\site-packages (from tensorflow-gpu->-r ../requirements.txt (line 7)) (0.13.0)\n",
      "Requirement already satisfied: typing-extensions~=3.7.4 in c:\\users\\carlos\\documents\\programming\\python\\equity-of-attention\\.venv\\lib\\site-packages (from tensorflow-gpu->-r ../requirements.txt (line 7)) (3.7.4.3)\n",
      "Requirement already satisfied: tensorflow-estimator<2.6.0,>=2.5.0rc0 in c:\\users\\carlos\\documents\\programming\\python\\equity-of-attention\\.venv\\lib\\site-packages (from tensorflow-gpu->-r ../requirements.txt (line 7)) (2.5.0)\n",
      "Requirement already satisfied: keras-preprocessing~=1.1.2 in c:\\users\\carlos\\documents\\programming\\python\\equity-of-attention\\.venv\\lib\\site-packages (from tensorflow-gpu->-r ../requirements.txt (line 7)) (1.1.2)\n",
      "Requirement already satisfied: gast==0.4.0 in c:\\users\\carlos\\documents\\programming\\python\\equity-of-attention\\.venv\\lib\\site-packages (from tensorflow-gpu->-r ../requirements.txt (line 7)) (0.4.0)\n",
      "Requirement already satisfied: keras-nightly~=2.5.0.dev in c:\\users\\carlos\\documents\\programming\\python\\equity-of-attention\\.venv\\lib\\site-packages (from tensorflow-gpu->-r ../requirements.txt (line 7)) (2.5.0.dev2021032900)\n",
      "Requirement already satisfied: termcolor~=1.1.0 in c:\\users\\carlos\\documents\\programming\\python\\equity-of-attention\\.venv\\lib\\site-packages (from tensorflow-gpu->-r ../requirements.txt (line 7)) (1.1.0)\n",
      "Requirement already satisfied: tensorboard~=2.5 in c:\\users\\carlos\\documents\\programming\\python\\equity-of-attention\\.venv\\lib\\site-packages (from tensorflow-gpu->-r ../requirements.txt (line 7)) (2.5.0)\n",
      "Requirement already satisfied: opt-einsum~=3.3.0 in c:\\users\\carlos\\documents\\programming\\python\\equity-of-attention\\.venv\\lib\\site-packages (from tensorflow-gpu->-r ../requirements.txt (line 7)) (3.3.0)\n",
      "Requirement already satisfied: astunparse~=1.6.3 in c:\\users\\carlos\\documents\\programming\\python\\equity-of-attention\\.venv\\lib\\site-packages (from tensorflow-gpu->-r ../requirements.txt (line 7)) (1.6.3)\n",
      "Requirement already satisfied: flatbuffers~=1.12.0 in c:\\users\\carlos\\documents\\programming\\python\\equity-of-attention\\.venv\\lib\\site-packages (from tensorflow-gpu->-r ../requirements.txt (line 7)) (1.12)\n",
      "Requirement already satisfied: h5py~=3.1.0 in c:\\users\\carlos\\documents\\programming\\python\\equity-of-attention\\.venv\\lib\\site-packages (from tensorflow-gpu->-r ../requirements.txt (line 7)) (3.1.0)\n",
      "Requirement already satisfied: wheel~=0.35 in c:\\users\\carlos\\documents\\programming\\python\\equity-of-attention\\.venv\\lib\\site-packages (from tensorflow-gpu->-r ../requirements.txt (line 7)) (0.36.2)\n",
      "Requirement already satisfied: google-pasta~=0.2 in c:\\users\\carlos\\documents\\programming\\python\\equity-of-attention\\.venv\\lib\\site-packages (from tensorflow-gpu->-r ../requirements.txt (line 7)) (0.2.0)\n",
      "Requirement already satisfied: wrapt~=1.12.1 in c:\\users\\carlos\\documents\\programming\\python\\equity-of-attention\\.venv\\lib\\site-packages (from tensorflow-gpu->-r ../requirements.txt (line 7)) (1.12.1)\n",
      "Requirement already satisfied: grpcio~=1.34.0 in c:\\users\\carlos\\documents\\programming\\python\\equity-of-attention\\.venv\\lib\\site-packages (from tensorflow-gpu->-r ../requirements.txt (line 7)) (1.34.1)\n",
      "Requirement already satisfied: protobuf>=3.9.2 in c:\\users\\carlos\\documents\\programming\\python\\equity-of-attention\\.venv\\lib\\site-packages (from tensorflow-gpu->-r ../requirements.txt (line 7)) (3.17.3)\n",
      "Requirement already satisfied: werkzeug>=0.11.15 in c:\\users\\carlos\\documents\\programming\\python\\equity-of-attention\\.venv\\lib\\site-packages (from tensorboard~=2.5->tensorflow-gpu->-r ../requirements.txt (line 7)) (2.0.1)\n",
      "Requirement already satisfied: tensorboard-plugin-wit>=1.6.0 in c:\\users\\carlos\\documents\\programming\\python\\equity-of-attention\\.venv\\lib\\site-packages (from tensorboard~=2.5->tensorflow-gpu->-r ../requirements.txt (line 7)) (1.8.0)\n",
      "Requirement already satisfied: google-auth-oauthlib<0.5,>=0.4.1 in c:\\users\\carlos\\documents\\programming\\python\\equity-of-attention\\.venv\\lib\\site-packages (from tensorboard~=2.5->tensorflow-gpu->-r ../requirements.txt (line 7)) (0.4.5)\n",
      "Requirement already satisfied: google-auth<2,>=1.6.3 in c:\\users\\carlos\\documents\\programming\\python\\equity-of-attention\\.venv\\lib\\site-packages (from tensorboard~=2.5->tensorflow-gpu->-r ../requirements.txt (line 7)) (1.34.0)\n",
      "Requirement already satisfied: tensorboard-data-server<0.7.0,>=0.6.0 in c:\\users\\carlos\\documents\\programming\\python\\equity-of-attention\\.venv\\lib\\site-packages (from tensorboard~=2.5->tensorflow-gpu->-r ../requirements.txt (line 7)) (0.6.1)\n",
      "Requirement already satisfied: markdown>=2.6.8 in c:\\users\\carlos\\documents\\programming\\python\\equity-of-attention\\.venv\\lib\\site-packages (from tensorboard~=2.5->tensorflow-gpu->-r ../requirements.txt (line 7)) (3.3.4)\n",
      "Requirement already satisfied: rsa<5,>=3.1.4 in c:\\users\\carlos\\documents\\programming\\python\\equity-of-attention\\.venv\\lib\\site-packages (from google-auth<2,>=1.6.3->tensorboard~=2.5->tensorflow-gpu->-r ../requirements.txt (line 7)) (4.7.2)\n",
      "Requirement already satisfied: cachetools<5.0,>=2.0.0 in c:\\users\\carlos\\documents\\programming\\python\\equity-of-attention\\.venv\\lib\\site-packages (from google-auth<2,>=1.6.3->tensorboard~=2.5->tensorflow-gpu->-r ../requirements.txt (line 7)) (4.2.2)\n",
      "Requirement already satisfied: pyasn1-modules>=0.2.1 in c:\\users\\carlos\\documents\\programming\\python\\equity-of-attention\\.venv\\lib\\site-packages (from google-auth<2,>=1.6.3->tensorboard~=2.5->tensorflow-gpu->-r ../requirements.txt (line 7)) (0.2.8)\n",
      "Requirement already satisfied: requests-oauthlib>=0.7.0 in c:\\users\\carlos\\documents\\programming\\python\\equity-of-attention\\.venv\\lib\\site-packages (from google-auth-oauthlib<0.5,>=0.4.1->tensorboard~=2.5->tensorflow-gpu->-r ../requirements.txt (line 7)) (1.3.0)\n",
      "Requirement already satisfied: pyasn1<0.5.0,>=0.4.6 in c:\\users\\carlos\\documents\\programming\\python\\equity-of-attention\\.venv\\lib\\site-packages (from pyasn1-modules>=0.2.1->google-auth<2,>=1.6.3->tensorboard~=2.5->tensorflow-gpu->-r ../requirements.txt (line 7)) (0.4.8)\n",
      "Requirement already satisfied: certifi>=2017.4.17 in c:\\users\\carlos\\documents\\programming\\python\\equity-of-attention\\.venv\\lib\\site-packages (from requests->jupyterlab-server~=2.3->jupyterlab->-r ../requirements.txt (line 1)) (2021.5.30)\n",
      "Requirement already satisfied: urllib3<1.27,>=1.21.1 in c:\\users\\carlos\\documents\\programming\\python\\equity-of-attention\\.venv\\lib\\site-packages (from requests->jupyterlab-server~=2.3->jupyterlab->-r ../requirements.txt (line 1)) (1.26.6)\n",
      "Requirement already satisfied: charset-normalizer~=2.0.0 in c:\\users\\carlos\\documents\\programming\\python\\equity-of-attention\\.venv\\lib\\site-packages (from requests->jupyterlab-server~=2.3->jupyterlab->-r ../requirements.txt (line 1)) (2.0.4)\n",
      "Requirement already satisfied: oauthlib>=3.0.0 in c:\\users\\carlos\\documents\\programming\\python\\equity-of-attention\\.venv\\lib\\site-packages (from requests-oauthlib>=0.7.0->google-auth-oauthlib<0.5,>=0.4.1->tensorboard~=2.5->tensorflow-gpu->-r ../requirements.txt (line 7)) (3.1.1)\n",
      "Requirement already satisfied: cffi>=1.0.0 in c:\\users\\carlos\\documents\\programming\\python\\equity-of-attention\\.venv\\lib\\site-packages (from argon2-cffi->jupyter-server~=1.4->jupyterlab->-r ../requirements.txt (line 1)) (1.14.6)\n",
      "Requirement already satisfied: pycparser in c:\\users\\carlos\\documents\\programming\\python\\equity-of-attention\\.venv\\lib\\site-packages (from cffi>=1.0.0->argon2-cffi->jupyter-server~=1.4->jupyterlab->-r ../requirements.txt (line 1)) (2.20)\n",
      "Requirement already satisfied: matplotlib-inline<0.2.0,>=0.1.0 in c:\\users\\carlos\\documents\\programming\\python\\equity-of-attention\\.venv\\lib\\site-packages (from ipykernel->notebook<7->nbclassic~=0.2->jupyterlab->-r ../requirements.txt (line 1)) (0.1.2)\n",
      "Requirement already satisfied: debugpy<2.0,>=1.0.0 in c:\\users\\carlos\\documents\\programming\\python\\equity-of-attention\\.venv\\lib\\site-packages (from ipykernel->notebook<7->nbclassic~=0.2->jupyterlab->-r ../requirements.txt (line 1)) (1.4.1)\n",
      "Requirement already satisfied: backcall in c:\\users\\carlos\\documents\\programming\\python\\equity-of-attention\\.venv\\lib\\site-packages (from ipython->jupyterlab->-r ../requirements.txt (line 1)) (0.2.0)\n",
      "Requirement already satisfied: jedi>=0.16 in c:\\users\\carlos\\documents\\programming\\python\\equity-of-attention\\.venv\\lib\\site-packages (from ipython->jupyterlab->-r ../requirements.txt (line 1)) (0.18.0)\n",
      "Requirement already satisfied: colorama in c:\\users\\carlos\\documents\\programming\\python\\equity-of-attention\\.venv\\lib\\site-packages (from ipython->jupyterlab->-r ../requirements.txt (line 1)) (0.4.4)\n",
      "Requirement already satisfied: pygments in c:\\users\\carlos\\documents\\programming\\python\\equity-of-attention\\.venv\\lib\\site-packages (from ipython->jupyterlab->-r ../requirements.txt (line 1)) (2.9.0)\n",
      "Requirement already satisfied: pickleshare in c:\\users\\carlos\\documents\\programming\\python\\equity-of-attention\\.venv\\lib\\site-packages (from ipython->jupyterlab->-r ../requirements.txt (line 1)) (0.7.5)\n",
      "Requirement already satisfied: prompt-toolkit!=3.0.0,!=3.0.1,<3.1.0,>=2.0.0 in c:\\users\\carlos\\documents\\programming\\python\\equity-of-attention\\.venv\\lib\\site-packages (from ipython->jupyterlab->-r ../requirements.txt (line 1)) (3.0.19)\n",
      "Requirement already satisfied: decorator in c:\\users\\carlos\\documents\\programming\\python\\equity-of-attention\\.venv\\lib\\site-packages (from ipython->jupyterlab->-r ../requirements.txt (line 1)) (5.0.9)\n",
      "Requirement already satisfied: parso<0.9.0,>=0.8.0 in c:\\users\\carlos\\documents\\programming\\python\\equity-of-attention\\.venv\\lib\\site-packages (from jedi>=0.16->ipython->jupyterlab->-r ../requirements.txt (line 1)) (0.8.2)\n",
      "Requirement already satisfied: wcwidth in c:\\users\\carlos\\documents\\programming\\python\\equity-of-attention\\.venv\\lib\\site-packages (from prompt-toolkit!=3.0.0,!=3.0.1,<3.1.0,>=2.0.0->ipython->jupyterlab->-r ../requirements.txt (line 1)) (0.2.5)\n",
      "Requirement already satisfied: pandocfilters>=1.4.1 in c:\\users\\carlos\\documents\\programming\\python\\equity-of-attention\\.venv\\lib\\site-packages (from nbconvert->jupyter-server~=1.4->jupyterlab->-r ../requirements.txt (line 1)) (1.4.3)\n",
      "Requirement already satisfied: bleach in c:\\users\\carlos\\documents\\programming\\python\\equity-of-attention\\.venv\\lib\\site-packages (from nbconvert->jupyter-server~=1.4->jupyterlab->-r ../requirements.txt (line 1)) (4.0.0)\n",
      "Requirement already satisfied: mistune<2,>=0.8.1 in c:\\users\\carlos\\documents\\programming\\python\\equity-of-attention\\.venv\\lib\\site-packages (from nbconvert->jupyter-server~=1.4->jupyterlab->-r ../requirements.txt (line 1)) (0.8.4)\n",
      "Requirement already satisfied: nbclient<0.6.0,>=0.5.0 in c:\\users\\carlos\\documents\\programming\\python\\equity-of-attention\\.venv\\lib\\site-packages (from nbconvert->jupyter-server~=1.4->jupyterlab->-r ../requirements.txt (line 1)) (0.5.3)\n",
      "Requirement already satisfied: entrypoints>=0.2.2 in c:\\users\\carlos\\documents\\programming\\python\\equity-of-attention\\.venv\\lib\\site-packages (from nbconvert->jupyter-server~=1.4->jupyterlab->-r ../requirements.txt (line 1)) (0.3)\n",
      "Requirement already satisfied: testpath in c:\\users\\carlos\\documents\\programming\\python\\equity-of-attention\\.venv\\lib\\site-packages (from nbconvert->jupyter-server~=1.4->jupyterlab->-r ../requirements.txt (line 1)) (0.5.0)\n",
      "Requirement already satisfied: defusedxml in c:\\users\\carlos\\documents\\programming\\python\\equity-of-attention\\.venv\\lib\\site-packages (from nbconvert->jupyter-server~=1.4->jupyterlab->-r ../requirements.txt (line 1)) (0.7.1)\n",
      "Requirement already satisfied: jupyterlab-pygments in c:\\users\\carlos\\documents\\programming\\python\\equity-of-attention\\.venv\\lib\\site-packages (from nbconvert->jupyter-server~=1.4->jupyterlab->-r ../requirements.txt (line 1)) (0.1.2)\n",
      "Requirement already satisfied: async-generator in c:\\users\\carlos\\documents\\programming\\python\\equity-of-attention\\.venv\\lib\\site-packages (from nbclient<0.6.0,>=0.5.0->nbconvert->jupyter-server~=1.4->jupyterlab->-r ../requirements.txt (line 1)) (1.10)\n",
      "Requirement already satisfied: nest-asyncio in c:\\users\\carlos\\documents\\programming\\python\\equity-of-attention\\.venv\\lib\\site-packages (from nbclient<0.6.0,>=0.5.0->nbconvert->jupyter-server~=1.4->jupyterlab->-r ../requirements.txt (line 1)) (1.5.1)\n",
      "Requirement already satisfied: webencodings in c:\\users\\carlos\\documents\\programming\\python\\equity-of-attention\\.venv\\lib\\site-packages (from bleach->nbconvert->jupyter-server~=1.4->jupyterlab->-r ../requirements.txt (line 1)) (0.5.1)\n"
     ]
    }
   ],
   "metadata": {
    "tags": [
     "outputPrepend"
    ]
   }
  },
  {
   "cell_type": "markdown",
   "source": [
    "### Settings up in GDrive (only on Collab)"
   ],
   "metadata": {}
  },
  {
   "cell_type": "code",
   "execution_count": 121,
   "source": [
    "if run_location == \"collab\":\r\n",
    "    from google.colab import drive\r\n",
    "    drive.mount('/content/gdrive')"
   ],
   "outputs": [],
   "metadata": {}
  },
  {
   "cell_type": "code",
   "execution_count": 122,
   "source": [
    "if run_location == \"collab\":\r\n",
    "    %cd /content/gdrive/My Drive/"
   ],
   "outputs": [],
   "metadata": {}
  },
  {
   "cell_type": "code",
   "execution_count": 123,
   "source": [
    "if run_location == \"collab\":\r\n",
    "    !git clone https://github.com/crojascampos/equity-of-attention.git"
   ],
   "outputs": [],
   "metadata": {}
  },
  {
   "cell_type": "code",
   "execution_count": 124,
   "source": [
    "if run_location == \"collab\":\r\n",
    "    %cd equity-of-attention"
   ],
   "outputs": [],
   "metadata": {}
  },
  {
   "cell_type": "code",
   "execution_count": 125,
   "source": [
    "if run_location == \"collab\":\r\n",
    "    # Not needed in Google Colab (already installed), but just in case\r\n",
    "    ! pip install matplotlib\r\n",
    "    ! pip install numpy\r\n",
    "    ! pip install pandas\r\n",
    "    ! pip install scikit-learn\r\n",
    "    ! pip install scipy\r\n",
    "    # Needed\r\n",
    "    ! pip install tensorflow-gpu"
   ],
   "outputs": [],
   "metadata": {}
  },
  {
   "cell_type": "code",
   "execution_count": 126,
   "source": [
    "if run_location == \"collab\":\r\n",
    "    %cd ./notebooks"
   ],
   "outputs": [],
   "metadata": {}
  },
  {
   "cell_type": "markdown",
   "source": [
    "### Import packages"
   ],
   "metadata": {}
  },
  {
   "cell_type": "code",
   "execution_count": 127,
   "source": [
    "import sys\r\n",
    "import os\r\n",
    "import math\r\n",
    "\r\n",
    "sys.path.append(os.path.join('..'))"
   ],
   "outputs": [],
   "metadata": {}
  },
  {
   "cell_type": "code",
   "execution_count": 128,
   "source": [
    "import pandas as pd\r\n",
    "import numpy as np"
   ],
   "outputs": [],
   "metadata": {}
  },
  {
   "cell_type": "code",
   "execution_count": 129,
   "source": [
    "import matplotlib.pyplot as plt\r\n",
    "%matplotlib inline"
   ],
   "outputs": [],
   "metadata": {}
  },
  {
   "cell_type": "code",
   "execution_count": 130,
   "source": [
    "# Load extra modules here"
   ],
   "outputs": [],
   "metadata": {}
  },
  {
   "cell_type": "markdown",
   "source": [
    "### Create folders for saving pre-computed results\n",
    "\n",
    "We will define the subfolders in **./data** where we will store our pre-computed results. For each dataset:\n",
    "\n",
    "- *data/outputs/splits* will include two csv files including the train and test interactions, according with the selected train-test split rule. \n",
    "- *data/outputs/instances* will include a csv file with instances to be fed to the model, either pairs for point-wise or triplets for pair-wise recommenders.\n",
    "- *data/outputs/models* will include a h5 file associated with a pre-trained recommender model.  \n",
    "- *data/outputs/predictions* will include a numpy file representing a user-item matrix; a cell stores the relevance score of an item for a given user.\n",
    "- *data/outputs/metrics* will include a pickle dictionary with the computed evaluation metrics for a given recommender model. \n",
    "\n",
    "**N.B.** This strategy will allow us to play with the intermediate outputs of the pipeline, without starting from scratch any time (e.g., for performing a bias treatment as a post-processing, we just need to load the predictions of a model to start). "
   ],
   "metadata": {}
  },
  {
   "cell_type": "code",
   "execution_count": 131,
   "source": [
    "data_path = '../data'"
   ],
   "outputs": [],
   "metadata": {}
  },
  {
   "cell_type": "code",
   "execution_count": 132,
   "source": [
    "!mkdir \"../data/outputs\"\r\n",
    "!mkdir \"../data/outputs/splits\"\r\n",
    "!mkdir \"../data/outputs/instances\"\r\n",
    "!mkdir \"../data/outputs/models\"\r\n",
    "!mkdir \"../data/outputs/predictions\"\r\n",
    "!mkdir \"../data/outputs/metrics\""
   ],
   "outputs": [
    {
     "output_type": "stream",
     "name": "stderr",
     "text": [
      "A subdirectory or file ../data/outputs already exists.\n",
      "A subdirectory or file ../data/outputs/splits already exists.\n",
      "A subdirectory or file ../data/outputs/instances already exists.\n",
      "A subdirectory or file ../data/outputs/models already exists.\n",
      "A subdirectory or file ../data/outputs/predictions already exists.\n",
      "A subdirectory or file ../data/outputs/metrics already exists.\n"
     ]
    }
   ],
   "metadata": {}
  },
  {
   "cell_type": "markdown",
   "source": [
    "## Step 2: Load and understand the Airbnb dataset"
   ],
   "metadata": {}
  },
  {
   "cell_type": "code",
   "execution_count": 133,
   "source": [
    "airbnb_city = \"Boston\"\r\n",
    "airbnb_dataset = 'airbnb_' + airbnb_city + '_listings'"
   ],
   "outputs": [],
   "metadata": {}
  },
  {
   "cell_type": "code",
   "execution_count": 134,
   "source": [
    "data = pd.read_csv(os.path.join(data_path, 'datasets/' + airbnb_dataset + '.csv'), encoding='utf8')\r\n",
    "data.columns"
   ],
   "outputs": [
    {
     "output_type": "execute_result",
     "data": {
      "text/plain": [
       "Index(['id', 'listing_url', 'scrape_id', 'last_scraped', 'name', 'description',\n",
       "       'neighborhood_overview', 'picture_url', 'host_id', 'host_url',\n",
       "       'host_name', 'host_since', 'host_location', 'host_about',\n",
       "       'host_response_time', 'host_response_rate', 'host_acceptance_rate',\n",
       "       'host_is_superhost', 'host_thumbnail_url', 'host_picture_url',\n",
       "       'host_neighbourhood', 'host_listings_count',\n",
       "       'host_total_listings_count', 'host_verifications',\n",
       "       'host_has_profile_pic', 'host_identity_verified', 'neighbourhood',\n",
       "       'neighbourhood_cleansed', 'neighbourhood_group_cleansed', 'latitude',\n",
       "       'longitude', 'property_type', 'room_type', 'accommodates', 'bathrooms',\n",
       "       'bathrooms_text', 'bedrooms', 'beds', 'amenities', 'price',\n",
       "       'minimum_nights', 'maximum_nights', 'minimum_minimum_nights',\n",
       "       'maximum_minimum_nights', 'minimum_maximum_nights',\n",
       "       'maximum_maximum_nights', 'minimum_nights_avg_ntm',\n",
       "       'maximum_nights_avg_ntm', 'calendar_updated', 'has_availability',\n",
       "       'availability_30', 'availability_60', 'availability_90',\n",
       "       'availability_365', 'calendar_last_scraped', 'number_of_reviews',\n",
       "       'number_of_reviews_ltm', 'number_of_reviews_l30d', 'first_review',\n",
       "       'last_review', 'review_scores_rating', 'review_scores_accuracy',\n",
       "       'review_scores_cleanliness', 'review_scores_checkin',\n",
       "       'review_scores_communication', 'review_scores_location',\n",
       "       'review_scores_value', 'license', 'instant_bookable',\n",
       "       'calculated_host_listings_count',\n",
       "       'calculated_host_listings_count_entire_homes',\n",
       "       'calculated_host_listings_count_private_rooms',\n",
       "       'calculated_host_listings_count_shared_rooms', 'reviews_per_month'],\n",
       "      dtype='object')"
      ]
     },
     "metadata": {},
     "execution_count": 134
    }
   ],
   "metadata": {}
  },
  {
   "cell_type": "code",
   "execution_count": 148,
   "source": [
    "# Position Bias calculation\r\n",
    "# Receives the position, outputs a scalar that is the bias of the position\r\n",
    "# * pos -> position\r\n",
    "# * p ---> probability of a subject of being selected, equal for every subject (default=0.5)\r\n",
    "# * k ---> after this position, the bias will be 0\r\n",
    "def pos_bias(pos, p=0.5, k=5):\r\n",
    "    bias = 0\r\n",
    "    if pos <= k:\r\n",
    "        bias = p * math.pow((1 - p), (pos - 1))\r\n",
    "    else:\r\n",
    "        bias = 0\r\n",
    "    return bias"
   ],
   "outputs": [],
   "metadata": {}
  },
  {
   "cell_type": "code",
   "execution_count": 146,
   "source": [
    "# Ranking Quality calculation\r\n",
    "# Receive a map of the values in the ranking + a list with the rankings, outputs a scalar that indicates\r\n",
    "# the quality of the ranking, more is better\r\n",
    "# * values --> map indicating the position of each subject on the ranking, must be numpy squared array of\r\n",
    "#              the same size as the length of the ranking\r\n",
    "# * ranking -> the ranking, may be a 1 dimension list or numpy array\r\n",
    "# * k -------> maximum position to be used for calculations (default=5)\r\n",
    "def ranking_quality(values, ranking, k=5):\r\n",
    "    # Initial checks\r\n",
    "    if type(values) != np.ndarray: raise TypeError(\"Values must be a numpy array\")\r\n",
    "    if values.shape != (len(ranking), len(ranking)): raise IndexError(\"Values must be a square array of the same length as the ranking\")\r\n",
    "\r\n",
    "    # Initialize the variables for the result of the function and the size of the ranking\r\n",
    "    result, n = 0, len(ranking)\r\n",
    "    # Iterate until the maximum position k\r\n",
    "    for j in range(k):\r\n",
    "        # Iterate over the length of the ranking\r\n",
    "        for i in range(n):\r\n",
    "            # Apply the function and add it to the result\r\n",
    "            result += ((math.pow(2, ranking[i])-1)/math.log2((j+1)+1))*values[i,j]\r\n",
    "    return result"
   ],
   "outputs": [],
   "metadata": {}
  },
  {
   "cell_type": "code",
   "execution_count": 162,
   "source": [
    "# Unfairness calculation\r\n",
    "# Receives a map of the values in the ranking + a list with the rankings, outputs a scalar that indicates\r\n",
    "# the ammount of unfairness in the ranking, less is better\r\n",
    "# * values ------> map indicating the position of each subject on the ranking, must be numpy squared array of\r\n",
    "#                  the same size as the length of the ranking\r\n",
    "# * ranking -----> the ranking, may be a 1 dimension list or numpy array\r\n",
    "# * pos_bias_p --> probability of a subject that it will be chosen, same for all subjects (default=0.5)\r\n",
    "# * pos_bias_k --> maximum position to be used for calculations (default=5)\r\n",
    "def unfairness(values, ranking, pos_bias_p=0.5, pos_bias_k=5):\r\n",
    "    # Initial checks\r\n",
    "    if type(values) != np.ndarray: raise TypeError(\"Values must be a numpy array\")\r\n",
    "    if values.shape != (len(ranking), len(ranking)): raise IndexError(\"Values must be a square array of the same length as the ranking\")\r\n",
    "\r\n",
    "    # Initialize the variables for the result of the function and the size of the ranking\r\n",
    "    result, n = 0, len(ranking)\r\n",
    "    print(\"Starting...\", end=\"\")\r\n",
    "    # Iterate over the length of the ranking\r\n",
    "    for i in range(n):\r\n",
    "        # Set accumulated attention and relevance variables to 0\r\n",
    "        accummA = 0\r\n",
    "        accummR = 0\r\n",
    "        # Iterate over the length of the ranking\r\n",
    "        for j in range(n):\r\n",
    "            print(\"Result = {}. Calculating on [{}, {}]...\".format(i, j), end=\"\")\r\n",
    "            # Calculate the values of the accumulated attention and relevance\r\n",
    "            accummA += pos_bias(j, pos_bias_p, pos_bias_k)\r\n",
    "            accummR += ranking[i]\r\n",
    "            # Apply the function and add it to the result\r\n",
    "            result += math.fabs(accummA - accummR) * values[i, j]\r\n",
    "            print(\"\\r\", end=\"\")\r\n",
    "    # Return the result\r\n",
    "    return result"
   ],
   "outputs": [],
   "metadata": {}
  },
  {
   "cell_type": "code",
   "execution_count": 149,
   "source": [
    "# Get position map\r\n",
    "# Receives a ranking and outputs a numpy squared array of size equal to the length of the ranking\r\n",
    "# * ranking --> the ranking, must be a 1 dimensional numpy array\r\n",
    "def get_pos_map(ranking):\r\n",
    "    if type(ranking) != np.ndarray: raise TypeError(\"'ranking' must be a 1 dimensional numpy array\")\r\n",
    "\r\n",
    "    # Initialize variables for length of ranking (n), map and the copy of the ranking (sorted)\r\n",
    "    n, map, sorted = len(ranking), [], ranking.copy()\r\n",
    "    # Sorts the copy of the ranking\r\n",
    "    sorted.sort()\r\n",
    "    # Iterates over the ranking\r\n",
    "    for i, val in enumerate(ranking):\r\n",
    "        # Sets the variables for the row and the location in the sorted ranking of the value on this iteration (loc)\r\n",
    "        row, loc = [], np.where(sorted == val)[0][0]\r\n",
    "        # Sets the value of this iteration to an empty string for it to not be repeated in the map\r\n",
    "        sorted = np.delete(sorted, loc)\r\n",
    "        # Compensates for the lack of i values deleted in each past iterations\r\n",
    "        loc += i\r\n",
    "        # Iterates over the range of 0...n\r\n",
    "        for j in range(n):\r\n",
    "            # If the j is not the location, append a 0 on the row\r\n",
    "            if j != loc: row.append(0)\r\n",
    "            # If j is the location, append a 1 on the row\r\n",
    "            else: row.append(1)\r\n",
    "        # Append the row to the map\r\n",
    "        map.append(row)\r\n",
    "    # Return the map as a numpy array\r\n",
    "    return np.array(map)"
   ],
   "outputs": [],
   "metadata": {}
  },
  {
   "cell_type": "code",
   "execution_count": 163,
   "source": [
    "# Test with small data\r\n",
    "test = np.array([4, 2, 7, 3])\r\n",
    "test_map = get_pos_map(test)\r\n",
    "unfairness(test_map, test)\r\n",
    "#ranking_quality(test_map, test)"
   ],
   "outputs": [
    {
     "output_type": "stream",
     "name": "stdout",
     "text": [
      "0 resulted in: 10.25\n",
      "1 resulted in: 12.75\n",
      "2 resulted in: 38.875\n",
      "3 resulted in: 49.0\n"
     ]
    },
    {
     "output_type": "execute_result",
     "data": {
      "text/plain": [
       "49.0"
      ]
     },
     "metadata": {},
     "execution_count": 163
    }
   ],
   "metadata": {}
  },
  {
   "cell_type": "code",
   "execution_count": 140,
   "source": [
    "# Get the singular ranking\r\n",
    "test_data = data[[\"id\", \"review_scores_rating\"]].fillna(0)\r\n",
    "test_data"
   ],
   "outputs": [
    {
     "output_type": "execute_result",
     "data": {
      "text/plain": [
       "            id  review_scores_rating\n",
       "0         3781                  4.95\n",
       "1         5506                  4.77\n",
       "2         6695                  4.79\n",
       "3        10730                  4.78\n",
       "4        10813                  5.00\n",
       "...        ...                   ...\n",
       "3038  50904278                  0.00\n",
       "3039  50917545                  0.00\n",
       "3040  50937751                  0.00\n",
       "3041  50955477                  0.00\n",
       "3042  50959720                  0.00\n",
       "\n",
       "[3043 rows x 2 columns]"
      ],
      "text/html": [
       "<div>\n",
       "<style scoped>\n",
       "    .dataframe tbody tr th:only-of-type {\n",
       "        vertical-align: middle;\n",
       "    }\n",
       "\n",
       "    .dataframe tbody tr th {\n",
       "        vertical-align: top;\n",
       "    }\n",
       "\n",
       "    .dataframe thead th {\n",
       "        text-align: right;\n",
       "    }\n",
       "</style>\n",
       "<table border=\"1\" class=\"dataframe\">\n",
       "  <thead>\n",
       "    <tr style=\"text-align: right;\">\n",
       "      <th></th>\n",
       "      <th>id</th>\n",
       "      <th>review_scores_rating</th>\n",
       "    </tr>\n",
       "  </thead>\n",
       "  <tbody>\n",
       "    <tr>\n",
       "      <th>0</th>\n",
       "      <td>3781</td>\n",
       "      <td>4.95</td>\n",
       "    </tr>\n",
       "    <tr>\n",
       "      <th>1</th>\n",
       "      <td>5506</td>\n",
       "      <td>4.77</td>\n",
       "    </tr>\n",
       "    <tr>\n",
       "      <th>2</th>\n",
       "      <td>6695</td>\n",
       "      <td>4.79</td>\n",
       "    </tr>\n",
       "    <tr>\n",
       "      <th>3</th>\n",
       "      <td>10730</td>\n",
       "      <td>4.78</td>\n",
       "    </tr>\n",
       "    <tr>\n",
       "      <th>4</th>\n",
       "      <td>10813</td>\n",
       "      <td>5.00</td>\n",
       "    </tr>\n",
       "    <tr>\n",
       "      <th>...</th>\n",
       "      <td>...</td>\n",
       "      <td>...</td>\n",
       "    </tr>\n",
       "    <tr>\n",
       "      <th>3038</th>\n",
       "      <td>50904278</td>\n",
       "      <td>0.00</td>\n",
       "    </tr>\n",
       "    <tr>\n",
       "      <th>3039</th>\n",
       "      <td>50917545</td>\n",
       "      <td>0.00</td>\n",
       "    </tr>\n",
       "    <tr>\n",
       "      <th>3040</th>\n",
       "      <td>50937751</td>\n",
       "      <td>0.00</td>\n",
       "    </tr>\n",
       "    <tr>\n",
       "      <th>3041</th>\n",
       "      <td>50955477</td>\n",
       "      <td>0.00</td>\n",
       "    </tr>\n",
       "    <tr>\n",
       "      <th>3042</th>\n",
       "      <td>50959720</td>\n",
       "      <td>0.00</td>\n",
       "    </tr>\n",
       "  </tbody>\n",
       "</table>\n",
       "<p>3043 rows × 2 columns</p>\n",
       "</div>"
      ]
     },
     "metadata": {},
     "execution_count": 140
    }
   ],
   "metadata": {}
  },
  {
   "cell_type": "code",
   "execution_count": 164,
   "source": [
    "# Test the function with the full ranking\r\n",
    "ranking = test_data[\"review_scores_rating\"].to_numpy()\r\n",
    "\r\n",
    "ranking_map = get_pos_map(ranking)\r\n",
    "\r\n",
    "unfairness(ranking_map, ranking)"
   ],
   "outputs": [
    {
     "output_type": "stream",
     "name": "stdout",
     "text": [
      "0 resulted in: 12056.231250000355\n",
      "1 resulted in: 20740.43250000076\n",
      "2 resulted in: 29686.18375000084\n",
      "3 resulted in: 38479.41500000078\n",
      "4 resulted in: 51227.44625000078\n",
      "5 resulted in: 51229.41500000078\n",
      "6 resulted in: 51231.38375000078\n",
      "7 resulted in: 51233.35250000078\n",
      "8 resulted in: 55849.58375000087\n",
      "9 resulted in: 61256.31500000087\n",
      "10 resulted in: 73500.58625000021\n",
      "11 resulted in: 85943.4974999998\n",
      "12 resulted in: 92696.69874999992\n",
      "13 resulted in: 100825.59999999957\n",
      "14 resulted in: 110343.13124999931\n",
      "15 resulted in: 118729.66249999931\n",
      "16 resulted in: 123608.39374999932\n",
      "17 resulted in: 130600.02499999915\n",
      "18 resulted in: 139569.72624999925\n",
      "19 resulted in: 145610.7774999992\n",
      "20 resulted in: 157864.96874999854\n",
      "21 resulted in: 168088.43999999855\n",
      "22 resulted in: 178316.77124999854\n",
      "23 resulted in: 189651.99249999828\n",
      "24 resulted in: 199684.67374999868\n",
      "25 resulted in: 204071.5049999986\n",
      "26 resulted in: 213449.03624999878\n",
      "27 resulted in: 218555.46749999875\n",
      "28 resulted in: 223637.11874999877\n",
      "Calculating on [29, 2110]..."
     ]
    },
    {
     "output_type": "error",
     "ename": "KeyboardInterrupt",
     "evalue": "",
     "traceback": [
      "\u001b[1;31m---------------------------------------------------------------------------\u001b[0m",
      "\u001b[1;31mKeyboardInterrupt\u001b[0m                         Traceback (most recent call last)",
      "\u001b[1;32m~\\AppData\\Local\\Temp/ipykernel_6948/1006549183.py\u001b[0m in \u001b[0;36m<module>\u001b[1;34m\u001b[0m\n\u001b[0;32m      4\u001b[0m \u001b[0mranking_map\u001b[0m \u001b[1;33m=\u001b[0m \u001b[0mget_pos_map\u001b[0m\u001b[1;33m(\u001b[0m\u001b[0mranking\u001b[0m\u001b[1;33m)\u001b[0m\u001b[1;33m\u001b[0m\u001b[1;33m\u001b[0m\u001b[0m\n\u001b[0;32m      5\u001b[0m \u001b[1;33m\u001b[0m\u001b[0m\n\u001b[1;32m----> 6\u001b[1;33m \u001b[0munfairness\u001b[0m\u001b[1;33m(\u001b[0m\u001b[0mranking_map\u001b[0m\u001b[1;33m,\u001b[0m \u001b[0mranking\u001b[0m\u001b[1;33m)\u001b[0m\u001b[1;33m\u001b[0m\u001b[1;33m\u001b[0m\u001b[0m\n\u001b[0m",
      "\u001b[1;32m~\\AppData\\Local\\Temp/ipykernel_6948/3747202817.py\u001b[0m in \u001b[0;36munfairness\u001b[1;34m(values, ranking, pos_bias_p, pos_bias_k)\u001b[0m\n\u001b[0;32m     22\u001b[0m         \u001b[1;31m# Iterate over the length of the ranking\u001b[0m\u001b[1;33m\u001b[0m\u001b[1;33m\u001b[0m\u001b[1;33m\u001b[0m\u001b[0m\n\u001b[0;32m     23\u001b[0m         \u001b[1;32mfor\u001b[0m \u001b[0mj\u001b[0m \u001b[1;32min\u001b[0m \u001b[0mrange\u001b[0m\u001b[1;33m(\u001b[0m\u001b[0mn\u001b[0m\u001b[1;33m)\u001b[0m\u001b[1;33m:\u001b[0m\u001b[1;33m\u001b[0m\u001b[1;33m\u001b[0m\u001b[0m\n\u001b[1;32m---> 24\u001b[1;33m             \u001b[0mprint\u001b[0m\u001b[1;33m(\u001b[0m\u001b[1;34m\"Calculating on [{}, {}]...\"\u001b[0m\u001b[1;33m.\u001b[0m\u001b[0mformat\u001b[0m\u001b[1;33m(\u001b[0m\u001b[0mi\u001b[0m\u001b[1;33m,\u001b[0m \u001b[0mj\u001b[0m\u001b[1;33m)\u001b[0m\u001b[1;33m,\u001b[0m \u001b[0mend\u001b[0m\u001b[1;33m=\u001b[0m\u001b[1;34m\"\"\u001b[0m\u001b[1;33m)\u001b[0m\u001b[1;33m\u001b[0m\u001b[1;33m\u001b[0m\u001b[0m\n\u001b[0m\u001b[0;32m     25\u001b[0m             \u001b[1;31m# Calculate the values of the accumulated attention and relevance\u001b[0m\u001b[1;33m\u001b[0m\u001b[1;33m\u001b[0m\u001b[1;33m\u001b[0m\u001b[0m\n\u001b[0;32m     26\u001b[0m             \u001b[0maccummA\u001b[0m \u001b[1;33m+=\u001b[0m \u001b[0mpos_bias\u001b[0m\u001b[1;33m(\u001b[0m\u001b[0mj\u001b[0m\u001b[1;33m,\u001b[0m \u001b[0mpos_bias_p\u001b[0m\u001b[1;33m,\u001b[0m \u001b[0mpos_bias_k\u001b[0m\u001b[1;33m)\u001b[0m\u001b[1;33m\u001b[0m\u001b[1;33m\u001b[0m\u001b[0m\n",
      "\u001b[1;32mc:\\Users\\Carlos\\Documents\\Programming\\Python\\equity-of-attention\\.venv\\lib\\site-packages\\ipykernel\\iostream.py\u001b[0m in \u001b[0;36mwrite\u001b[1;34m(self, string)\u001b[0m\n\u001b[0;32m    517\u001b[0m             \u001b[0mis_child\u001b[0m \u001b[1;33m=\u001b[0m \u001b[1;33m(\u001b[0m\u001b[1;32mnot\u001b[0m \u001b[0mself\u001b[0m\u001b[1;33m.\u001b[0m\u001b[0m_is_master_process\u001b[0m\u001b[1;33m(\u001b[0m\u001b[1;33m)\u001b[0m\u001b[1;33m)\u001b[0m\u001b[1;33m\u001b[0m\u001b[1;33m\u001b[0m\u001b[0m\n\u001b[0;32m    518\u001b[0m             \u001b[1;31m# only touch the buffer in the IO thread to avoid races\u001b[0m\u001b[1;33m\u001b[0m\u001b[1;33m\u001b[0m\u001b[1;33m\u001b[0m\u001b[0m\n\u001b[1;32m--> 519\u001b[1;33m             \u001b[0mself\u001b[0m\u001b[1;33m.\u001b[0m\u001b[0mpub_thread\u001b[0m\u001b[1;33m.\u001b[0m\u001b[0mschedule\u001b[0m\u001b[1;33m(\u001b[0m\u001b[1;32mlambda\u001b[0m\u001b[1;33m:\u001b[0m \u001b[0mself\u001b[0m\u001b[1;33m.\u001b[0m\u001b[0m_buffer\u001b[0m\u001b[1;33m.\u001b[0m\u001b[0mwrite\u001b[0m\u001b[1;33m(\u001b[0m\u001b[0mstring\u001b[0m\u001b[1;33m)\u001b[0m\u001b[1;33m)\u001b[0m\u001b[1;33m\u001b[0m\u001b[1;33m\u001b[0m\u001b[0m\n\u001b[0m\u001b[0;32m    520\u001b[0m             \u001b[1;32mif\u001b[0m \u001b[0mis_child\u001b[0m\u001b[1;33m:\u001b[0m\u001b[1;33m\u001b[0m\u001b[1;33m\u001b[0m\u001b[0m\n\u001b[0;32m    521\u001b[0m                 \u001b[1;31m# mp.Pool cannot be trusted to flush promptly (or ever),\u001b[0m\u001b[1;33m\u001b[0m\u001b[1;33m\u001b[0m\u001b[1;33m\u001b[0m\u001b[0m\n",
      "\u001b[1;32mc:\\Users\\Carlos\\Documents\\Programming\\Python\\equity-of-attention\\.venv\\lib\\site-packages\\ipykernel\\iostream.py\u001b[0m in \u001b[0;36mschedule\u001b[1;34m(self, f)\u001b[0m\n\u001b[0;32m    212\u001b[0m             \u001b[0mself\u001b[0m\u001b[1;33m.\u001b[0m\u001b[0m_events\u001b[0m\u001b[1;33m.\u001b[0m\u001b[0mappend\u001b[0m\u001b[1;33m(\u001b[0m\u001b[0mf\u001b[0m\u001b[1;33m)\u001b[0m\u001b[1;33m\u001b[0m\u001b[1;33m\u001b[0m\u001b[0m\n\u001b[0;32m    213\u001b[0m             \u001b[1;31m# wake event thread (message content is ignored)\u001b[0m\u001b[1;33m\u001b[0m\u001b[1;33m\u001b[0m\u001b[1;33m\u001b[0m\u001b[0m\n\u001b[1;32m--> 214\u001b[1;33m             \u001b[0mself\u001b[0m\u001b[1;33m.\u001b[0m\u001b[0m_event_pipe\u001b[0m\u001b[1;33m.\u001b[0m\u001b[0msend\u001b[0m\u001b[1;33m(\u001b[0m\u001b[1;34mb''\u001b[0m\u001b[1;33m)\u001b[0m\u001b[1;33m\u001b[0m\u001b[1;33m\u001b[0m\u001b[0m\n\u001b[0m\u001b[0;32m    215\u001b[0m         \u001b[1;32melse\u001b[0m\u001b[1;33m:\u001b[0m\u001b[1;33m\u001b[0m\u001b[1;33m\u001b[0m\u001b[0m\n\u001b[0;32m    216\u001b[0m             \u001b[0mf\u001b[0m\u001b[1;33m(\u001b[0m\u001b[1;33m)\u001b[0m\u001b[1;33m\u001b[0m\u001b[1;33m\u001b[0m\u001b[0m\n",
      "\u001b[1;32mc:\\Users\\Carlos\\Documents\\Programming\\Python\\equity-of-attention\\.venv\\lib\\site-packages\\zmq\\sugar\\socket.py\u001b[0m in \u001b[0;36msend\u001b[1;34m(self, data, flags, copy, track, routing_id, group)\u001b[0m\n\u001b[0;32m    539\u001b[0m                 )\n\u001b[0;32m    540\u001b[0m             \u001b[0mdata\u001b[0m\u001b[1;33m.\u001b[0m\u001b[0mgroup\u001b[0m \u001b[1;33m=\u001b[0m \u001b[0mgroup\u001b[0m\u001b[1;33m\u001b[0m\u001b[1;33m\u001b[0m\u001b[0m\n\u001b[1;32m--> 541\u001b[1;33m         \u001b[1;32mreturn\u001b[0m \u001b[0msuper\u001b[0m\u001b[1;33m(\u001b[0m\u001b[0mSocket\u001b[0m\u001b[1;33m,\u001b[0m \u001b[0mself\u001b[0m\u001b[1;33m)\u001b[0m\u001b[1;33m.\u001b[0m\u001b[0msend\u001b[0m\u001b[1;33m(\u001b[0m\u001b[0mdata\u001b[0m\u001b[1;33m,\u001b[0m \u001b[0mflags\u001b[0m\u001b[1;33m=\u001b[0m\u001b[0mflags\u001b[0m\u001b[1;33m,\u001b[0m \u001b[0mcopy\u001b[0m\u001b[1;33m=\u001b[0m\u001b[0mcopy\u001b[0m\u001b[1;33m,\u001b[0m \u001b[0mtrack\u001b[0m\u001b[1;33m=\u001b[0m\u001b[0mtrack\u001b[0m\u001b[1;33m)\u001b[0m\u001b[1;33m\u001b[0m\u001b[1;33m\u001b[0m\u001b[0m\n\u001b[0m\u001b[0;32m    542\u001b[0m \u001b[1;33m\u001b[0m\u001b[0m\n\u001b[0;32m    543\u001b[0m     \u001b[1;32mdef\u001b[0m \u001b[0msend_multipart\u001b[0m\u001b[1;33m(\u001b[0m\u001b[0mself\u001b[0m\u001b[1;33m,\u001b[0m \u001b[0mmsg_parts\u001b[0m\u001b[1;33m,\u001b[0m \u001b[0mflags\u001b[0m\u001b[1;33m=\u001b[0m\u001b[1;36m0\u001b[0m\u001b[1;33m,\u001b[0m \u001b[0mcopy\u001b[0m\u001b[1;33m=\u001b[0m\u001b[1;32mTrue\u001b[0m\u001b[1;33m,\u001b[0m \u001b[0mtrack\u001b[0m\u001b[1;33m=\u001b[0m\u001b[1;32mFalse\u001b[0m\u001b[1;33m,\u001b[0m \u001b[1;33m**\u001b[0m\u001b[0mkwargs\u001b[0m\u001b[1;33m)\u001b[0m\u001b[1;33m:\u001b[0m\u001b[1;33m\u001b[0m\u001b[1;33m\u001b[0m\u001b[0m\n",
      "\u001b[1;32mzmq\\backend\\cython\\socket.pyx\u001b[0m in \u001b[0;36mzmq.backend.cython.socket.Socket.send\u001b[1;34m()\u001b[0m\n",
      "\u001b[1;32mzmq\\backend\\cython\\socket.pyx\u001b[0m in \u001b[0;36mzmq.backend.cython.socket.Socket.send\u001b[1;34m()\u001b[0m\n",
      "\u001b[1;32mzmq\\backend\\cython\\socket.pyx\u001b[0m in \u001b[0;36mzmq.backend.cython.socket._send_copy\u001b[1;34m()\u001b[0m\n",
      "\u001b[1;32mc:\\Users\\Carlos\\Documents\\Programming\\Python\\equity-of-attention\\.venv\\lib\\site-packages\\zmq\\backend\\cython\\checkrc.pxd\u001b[0m in \u001b[0;36mzmq.backend.cython.checkrc._check_rc\u001b[1;34m()\u001b[0m\n",
      "\u001b[1;31mKeyboardInterrupt\u001b[0m: "
     ]
    }
   ],
   "metadata": {}
  },
  {
   "cell_type": "code",
   "execution_count": null,
   "source": [
    "# IGNORE, TEST FOR SOMETHING\r\n",
    "arr = np.array([[[1, 2], [3, 4]], [[5, 6], [7, 8]]])\r\n",
    "arr2 = np.array([[0, 1], [1, 0]])\r\n",
    "\r\n",
    "np.any((arr2!=0)&(arr2!=1))"
   ],
   "outputs": [
    {
     "output_type": "execute_result",
     "data": {
      "text/plain": [
       "False"
      ]
     },
     "metadata": {},
     "execution_count": 54
    }
   ],
   "metadata": {}
  }
 ]
}